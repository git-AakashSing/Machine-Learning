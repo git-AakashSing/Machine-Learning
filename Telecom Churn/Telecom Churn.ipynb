{
 "cells": [
  {
   "cell_type": "markdown",
   "metadata": {},
   "source": [
    "# TELECOM CHURN CASE STUDY"
   ]
  },
  {
   "cell_type": "markdown",
   "metadata": {},
   "source": [
    "## Problem Statement\n",
    "In the telecom industry, customers are able to choose from multiple service providers and actively switch \n",
    "from one operator to another. In this highly competitive market, the telecommunications industry\n",
    "experiences an average of 15-25% annual churn rate. Given the fact that it costs 5-10 times more to acquire \n",
    "a new customer than to retain an existing one, customer retention has now become even more \n",
    "important than customer acquisition.To reduce customer churn, telecom companies need to predict \n",
    "which customers are at high risk of churn.\n",
    "\n",
    "### Business Objective\n",
    "The business objective is to predict the churn in the last (i.e. the ninth) month using the data (features)\n",
    "from the first three months. To do this task well, understanding the typical customer behaviour during churn will be helpful."
   ]
  },
  {
   "cell_type": "markdown",
   "metadata": {},
   "source": [
    "#### Steps : \n",
    "\n",
    "    - Data Understanding\n",
    "    - Data Preparation\n",
    "        1. Derive New Features\n",
    "        2. Filter High-Value Customers\n",
    "        3. Tag Churners and remove attributes of the churn phase\n",
    "    - EDA\n",
    "    - Modelling"
   ]
  },
  {
   "cell_type": "markdown",
   "metadata": {},
   "source": [
    "### Importing Modules & Required Libraries"
   ]
  },
  {
   "cell_type": "code",
   "execution_count": 1,
   "metadata": {},
   "outputs": [],
   "source": [
    "# Importing required libraries \n",
    "import pandas as pd\n",
    "import numpy as np\n",
    "\n",
    "import matplotlib.pyplot as plt\n",
    "import seaborn as sb\n",
    "\n",
    "%matplotlib inline\n",
    "import warnings\n",
    "warnings.filterwarnings('ignore')"
   ]
  },
  {
   "cell_type": "markdown",
   "metadata": {},
   "source": [
    "### Importing DataSet"
   ]
  },
  {
   "cell_type": "code",
   "execution_count": 2,
   "metadata": {},
   "outputs": [
    {
     "data": {
      "text/html": [
       "<div>\n",
       "<style scoped>\n",
       "    .dataframe tbody tr th:only-of-type {\n",
       "        vertical-align: middle;\n",
       "    }\n",
       "\n",
       "    .dataframe tbody tr th {\n",
       "        vertical-align: top;\n",
       "    }\n",
       "\n",
       "    .dataframe thead th {\n",
       "        text-align: right;\n",
       "    }\n",
       "</style>\n",
       "<table border=\"1\" class=\"dataframe\">\n",
       "  <thead>\n",
       "    <tr style=\"text-align: right;\">\n",
       "      <th></th>\n",
       "      <th>mobile_number</th>\n",
       "      <th>circle_id</th>\n",
       "      <th>loc_og_t2o_mou</th>\n",
       "      <th>std_og_t2o_mou</th>\n",
       "      <th>loc_ic_t2o_mou</th>\n",
       "      <th>last_date_of_month_6</th>\n",
       "      <th>last_date_of_month_7</th>\n",
       "      <th>last_date_of_month_8</th>\n",
       "      <th>last_date_of_month_9</th>\n",
       "      <th>arpu_6</th>\n",
       "      <th>...</th>\n",
       "      <th>sachet_3g_9</th>\n",
       "      <th>fb_user_6</th>\n",
       "      <th>fb_user_7</th>\n",
       "      <th>fb_user_8</th>\n",
       "      <th>fb_user_9</th>\n",
       "      <th>aon</th>\n",
       "      <th>aug_vbc_3g</th>\n",
       "      <th>jul_vbc_3g</th>\n",
       "      <th>jun_vbc_3g</th>\n",
       "      <th>sep_vbc_3g</th>\n",
       "    </tr>\n",
       "  </thead>\n",
       "  <tbody>\n",
       "    <tr>\n",
       "      <th>0</th>\n",
       "      <td>7000842753</td>\n",
       "      <td>109</td>\n",
       "      <td>0.0</td>\n",
       "      <td>0.0</td>\n",
       "      <td>0.0</td>\n",
       "      <td>6/30/2014</td>\n",
       "      <td>7/31/2014</td>\n",
       "      <td>8/31/2014</td>\n",
       "      <td>9/30/2014</td>\n",
       "      <td>197.385</td>\n",
       "      <td>...</td>\n",
       "      <td>0</td>\n",
       "      <td>1.0</td>\n",
       "      <td>1.0</td>\n",
       "      <td>1.0</td>\n",
       "      <td>NaN</td>\n",
       "      <td>968</td>\n",
       "      <td>30.4</td>\n",
       "      <td>0.0</td>\n",
       "      <td>101.20</td>\n",
       "      <td>3.58</td>\n",
       "    </tr>\n",
       "    <tr>\n",
       "      <th>1</th>\n",
       "      <td>7001865778</td>\n",
       "      <td>109</td>\n",
       "      <td>0.0</td>\n",
       "      <td>0.0</td>\n",
       "      <td>0.0</td>\n",
       "      <td>6/30/2014</td>\n",
       "      <td>7/31/2014</td>\n",
       "      <td>8/31/2014</td>\n",
       "      <td>9/30/2014</td>\n",
       "      <td>34.047</td>\n",
       "      <td>...</td>\n",
       "      <td>0</td>\n",
       "      <td>NaN</td>\n",
       "      <td>1.0</td>\n",
       "      <td>1.0</td>\n",
       "      <td>NaN</td>\n",
       "      <td>1006</td>\n",
       "      <td>0.0</td>\n",
       "      <td>0.0</td>\n",
       "      <td>0.00</td>\n",
       "      <td>0.00</td>\n",
       "    </tr>\n",
       "    <tr>\n",
       "      <th>2</th>\n",
       "      <td>7001625959</td>\n",
       "      <td>109</td>\n",
       "      <td>0.0</td>\n",
       "      <td>0.0</td>\n",
       "      <td>0.0</td>\n",
       "      <td>6/30/2014</td>\n",
       "      <td>7/31/2014</td>\n",
       "      <td>8/31/2014</td>\n",
       "      <td>9/30/2014</td>\n",
       "      <td>167.690</td>\n",
       "      <td>...</td>\n",
       "      <td>0</td>\n",
       "      <td>NaN</td>\n",
       "      <td>NaN</td>\n",
       "      <td>NaN</td>\n",
       "      <td>1.0</td>\n",
       "      <td>1103</td>\n",
       "      <td>0.0</td>\n",
       "      <td>0.0</td>\n",
       "      <td>4.17</td>\n",
       "      <td>0.00</td>\n",
       "    </tr>\n",
       "    <tr>\n",
       "      <th>3</th>\n",
       "      <td>7001204172</td>\n",
       "      <td>109</td>\n",
       "      <td>0.0</td>\n",
       "      <td>0.0</td>\n",
       "      <td>0.0</td>\n",
       "      <td>6/30/2014</td>\n",
       "      <td>7/31/2014</td>\n",
       "      <td>8/31/2014</td>\n",
       "      <td>9/30/2014</td>\n",
       "      <td>221.338</td>\n",
       "      <td>...</td>\n",
       "      <td>0</td>\n",
       "      <td>NaN</td>\n",
       "      <td>NaN</td>\n",
       "      <td>NaN</td>\n",
       "      <td>NaN</td>\n",
       "      <td>2491</td>\n",
       "      <td>0.0</td>\n",
       "      <td>0.0</td>\n",
       "      <td>0.00</td>\n",
       "      <td>0.00</td>\n",
       "    </tr>\n",
       "    <tr>\n",
       "      <th>4</th>\n",
       "      <td>7000142493</td>\n",
       "      <td>109</td>\n",
       "      <td>0.0</td>\n",
       "      <td>0.0</td>\n",
       "      <td>0.0</td>\n",
       "      <td>6/30/2014</td>\n",
       "      <td>7/31/2014</td>\n",
       "      <td>8/31/2014</td>\n",
       "      <td>9/30/2014</td>\n",
       "      <td>261.636</td>\n",
       "      <td>...</td>\n",
       "      <td>0</td>\n",
       "      <td>0.0</td>\n",
       "      <td>NaN</td>\n",
       "      <td>NaN</td>\n",
       "      <td>NaN</td>\n",
       "      <td>1526</td>\n",
       "      <td>0.0</td>\n",
       "      <td>0.0</td>\n",
       "      <td>0.00</td>\n",
       "      <td>0.00</td>\n",
       "    </tr>\n",
       "  </tbody>\n",
       "</table>\n",
       "<p>5 rows × 226 columns</p>\n",
       "</div>"
      ],
      "text/plain": [
       "   mobile_number  circle_id  loc_og_t2o_mou  std_og_t2o_mou  loc_ic_t2o_mou  \\\n",
       "0     7000842753        109             0.0             0.0             0.0   \n",
       "1     7001865778        109             0.0             0.0             0.0   \n",
       "2     7001625959        109             0.0             0.0             0.0   \n",
       "3     7001204172        109             0.0             0.0             0.0   \n",
       "4     7000142493        109             0.0             0.0             0.0   \n",
       "\n",
       "  last_date_of_month_6 last_date_of_month_7 last_date_of_month_8  \\\n",
       "0            6/30/2014            7/31/2014            8/31/2014   \n",
       "1            6/30/2014            7/31/2014            8/31/2014   \n",
       "2            6/30/2014            7/31/2014            8/31/2014   \n",
       "3            6/30/2014            7/31/2014            8/31/2014   \n",
       "4            6/30/2014            7/31/2014            8/31/2014   \n",
       "\n",
       "  last_date_of_month_9   arpu_6  ...  sachet_3g_9  fb_user_6  fb_user_7  \\\n",
       "0            9/30/2014  197.385  ...            0        1.0        1.0   \n",
       "1            9/30/2014   34.047  ...            0        NaN        1.0   \n",
       "2            9/30/2014  167.690  ...            0        NaN        NaN   \n",
       "3            9/30/2014  221.338  ...            0        NaN        NaN   \n",
       "4            9/30/2014  261.636  ...            0        0.0        NaN   \n",
       "\n",
       "   fb_user_8  fb_user_9   aon  aug_vbc_3g  jul_vbc_3g  jun_vbc_3g  sep_vbc_3g  \n",
       "0        1.0        NaN   968        30.4         0.0      101.20        3.58  \n",
       "1        1.0        NaN  1006         0.0         0.0        0.00        0.00  \n",
       "2        NaN        1.0  1103         0.0         0.0        4.17        0.00  \n",
       "3        NaN        NaN  2491         0.0         0.0        0.00        0.00  \n",
       "4        NaN        NaN  1526         0.0         0.0        0.00        0.00  \n",
       "\n",
       "[5 rows x 226 columns]"
      ]
     },
     "execution_count": 2,
     "metadata": {},
     "output_type": "execute_result"
    }
   ],
   "source": [
    "# Importing Telecom dataset\n",
    "tel_df = pd.read_csv('telecom_churn_data.csv')\n",
    "tel_df.head()"
   ]
  },
  {
   "cell_type": "markdown",
   "metadata": {},
   "source": [
    "### Data Understanding"
   ]
  },
  {
   "cell_type": "code",
   "execution_count": 3,
   "metadata": {
    "scrolled": true
   },
   "outputs": [
    {
     "name": "stdout",
     "output_type": "stream",
     "text": [
      "<class 'pandas.core.frame.DataFrame'>\n",
      "RangeIndex: 99999 entries, 0 to 99998\n",
      "Columns: 226 entries, mobile_number to sep_vbc_3g\n",
      "dtypes: float64(179), int64(35), object(12)\n",
      "memory usage: 172.4+ MB\n"
     ]
    }
   ],
   "source": [
    "tel_df.info()"
   ]
  },
  {
   "cell_type": "code",
   "execution_count": 4,
   "metadata": {},
   "outputs": [
    {
     "data": {
      "text/plain": [
       "(99999, 226)"
      ]
     },
     "execution_count": 4,
     "metadata": {},
     "output_type": "execute_result"
    }
   ],
   "source": [
    "tel_df.shape"
   ]
  },
  {
   "cell_type": "code",
   "execution_count": 5,
   "metadata": {},
   "outputs": [
    {
     "name": "stdout",
     "output_type": "stream",
     "text": [
      "null values of date_of_last_rech_data_6 is---> 74.84674846748467 \n",
      "null values of date_of_last_rech_data_7 is---> 74.42874428744287 \n",
      "null values of date_of_last_rech_data_8 is---> 73.66073660736608 \n",
      "null values of date_of_last_rech_data_9 is---> 74.07774077740777 \n",
      "null values of total_rech_data_6 is---> 74.84674846748467 \n",
      "null values of total_rech_data_7 is---> 74.42874428744287 \n",
      "null values of total_rech_data_8 is---> 73.66073660736608 \n",
      "null values of total_rech_data_9 is---> 74.07774077740777 \n",
      "null values of max_rech_data_6 is---> 74.84674846748467 \n",
      "null values of max_rech_data_7 is---> 74.42874428744287 \n",
      "null values of max_rech_data_8 is---> 73.66073660736608 \n",
      "null values of max_rech_data_9 is---> 74.07774077740777 \n",
      "null values of count_rech_2g_6 is---> 74.84674846748467 \n",
      "null values of count_rech_2g_7 is---> 74.42874428744287 \n",
      "null values of count_rech_2g_8 is---> 73.66073660736608 \n",
      "null values of count_rech_2g_9 is---> 74.07774077740777 \n",
      "null values of count_rech_3g_6 is---> 74.84674846748467 \n",
      "null values of count_rech_3g_7 is---> 74.42874428744287 \n",
      "null values of count_rech_3g_8 is---> 73.66073660736608 \n",
      "null values of count_rech_3g_9 is---> 74.07774077740777 \n",
      "null values of av_rech_amt_data_6 is---> 74.84674846748467 \n",
      "null values of av_rech_amt_data_7 is---> 74.42874428744287 \n",
      "null values of av_rech_amt_data_8 is---> 73.66073660736608 \n",
      "null values of av_rech_amt_data_9 is---> 74.07774077740777 \n",
      "null values of arpu_3g_6 is---> 74.84674846748467 \n",
      "null values of arpu_3g_7 is---> 74.42874428744287 \n",
      "null values of arpu_3g_8 is---> 73.66073660736608 \n",
      "null values of arpu_3g_9 is---> 74.07774077740777 \n",
      "null values of arpu_2g_6 is---> 74.84674846748467 \n",
      "null values of arpu_2g_7 is---> 74.42874428744287 \n",
      "null values of arpu_2g_8 is---> 73.66073660736608 \n",
      "null values of arpu_2g_9 is---> 74.07774077740777 \n",
      "null values of night_pck_user_6 is---> 74.84674846748467 \n",
      "null values of night_pck_user_7 is---> 74.42874428744287 \n",
      "null values of night_pck_user_8 is---> 73.66073660736608 \n",
      "null values of night_pck_user_9 is---> 74.07774077740777 \n",
      "null values of fb_user_6 is---> 74.84674846748467 \n",
      "null values of fb_user_7 is---> 74.42874428744287 \n",
      "null values of fb_user_8 is---> 73.66073660736608 \n",
      "null values of fb_user_9 is---> 74.07774077740777 \n"
     ]
    }
   ],
   "source": [
    "null_val = []\n",
    "for col in tel_df.columns:\n",
    "    if tel_df[''+col+''].isnull().mean() > 0.1 :\n",
    "        print('null values of {0} is---> {1} '.format(col,tel_df[''+col+''].isnull().mean()*100))\n",
    "        null_val.append(col)"
   ]
  },
  {
   "cell_type": "markdown",
   "metadata": {},
   "source": [
    "--Inference : There are columnss with `rech` where null represents no recharge amount in that \n",
    "particular month"
   ]
  },
  {
   "cell_type": "markdown",
   "metadata": {},
   "source": [
    "### Data Preparation"
   ]
  },
  {
   "cell_type": "markdown",
   "metadata": {},
   "source": [
    "#### 1. Derive New Features"
   ]
  },
  {
   "cell_type": "code",
   "execution_count": 6,
   "metadata": {},
   "outputs": [
    {
     "data": {
      "text/plain": [
       "['total_rech_amt_6',\n",
       " 'total_rech_amt_7',\n",
       " 'total_rech_amt_8',\n",
       " 'total_rech_amt_9',\n",
       " 'max_rech_amt_6',\n",
       " 'max_rech_amt_7',\n",
       " 'max_rech_amt_8',\n",
       " 'max_rech_amt_9',\n",
       " 'total_rech_data_6',\n",
       " 'total_rech_data_7',\n",
       " 'total_rech_data_8',\n",
       " 'total_rech_data_9',\n",
       " 'max_rech_data_6',\n",
       " 'max_rech_data_7',\n",
       " 'max_rech_data_8',\n",
       " 'max_rech_data_9',\n",
       " 'av_rech_amt_data_6',\n",
       " 'av_rech_amt_data_7',\n",
       " 'av_rech_amt_data_8',\n",
       " 'av_rech_amt_data_9']"
      ]
     },
     "execution_count": 6,
     "metadata": {},
     "output_type": "execute_result"
    }
   ],
   "source": [
    "# Getting all RECH col in one list \n",
    "rech_col = [col for col in tel_df.columns if (('rech_amt' in col or 'rech_data' in col) & ('date' not in col)) ]\n",
    "rech_col"
   ]
  },
  {
   "cell_type": "markdown",
   "metadata": {},
   "source": [
    "Exploring rech col for better understanding "
   ]
  },
  {
   "cell_type": "code",
   "execution_count": 7,
   "metadata": {},
   "outputs": [
    {
     "data": {
      "text/html": [
       "<div>\n",
       "<style scoped>\n",
       "    .dataframe tbody tr th:only-of-type {\n",
       "        vertical-align: middle;\n",
       "    }\n",
       "\n",
       "    .dataframe tbody tr th {\n",
       "        vertical-align: top;\n",
       "    }\n",
       "\n",
       "    .dataframe thead th {\n",
       "        text-align: right;\n",
       "    }\n",
       "</style>\n",
       "<table border=\"1\" class=\"dataframe\">\n",
       "  <thead>\n",
       "    <tr style=\"text-align: right;\">\n",
       "      <th></th>\n",
       "      <th>total_rech_amt_6</th>\n",
       "      <th>total_rech_amt_7</th>\n",
       "      <th>total_rech_amt_8</th>\n",
       "      <th>total_rech_amt_9</th>\n",
       "      <th>max_rech_amt_6</th>\n",
       "      <th>max_rech_amt_7</th>\n",
       "      <th>max_rech_amt_8</th>\n",
       "      <th>max_rech_amt_9</th>\n",
       "      <th>total_rech_data_6</th>\n",
       "      <th>total_rech_data_7</th>\n",
       "      <th>total_rech_data_8</th>\n",
       "      <th>total_rech_data_9</th>\n",
       "      <th>max_rech_data_6</th>\n",
       "      <th>max_rech_data_7</th>\n",
       "      <th>max_rech_data_8</th>\n",
       "      <th>max_rech_data_9</th>\n",
       "      <th>av_rech_amt_data_6</th>\n",
       "      <th>av_rech_amt_data_7</th>\n",
       "      <th>av_rech_amt_data_8</th>\n",
       "      <th>av_rech_amt_data_9</th>\n",
       "    </tr>\n",
       "  </thead>\n",
       "  <tbody>\n",
       "    <tr>\n",
       "      <th>count</th>\n",
       "      <td>99999.000000</td>\n",
       "      <td>99999.000000</td>\n",
       "      <td>99999.000000</td>\n",
       "      <td>99999.000000</td>\n",
       "      <td>99999.000000</td>\n",
       "      <td>99999.000000</td>\n",
       "      <td>99999.000000</td>\n",
       "      <td>99999.000000</td>\n",
       "      <td>25153.000000</td>\n",
       "      <td>25571.000000</td>\n",
       "      <td>26339.000000</td>\n",
       "      <td>25922.000000</td>\n",
       "      <td>25153.000000</td>\n",
       "      <td>25571.000000</td>\n",
       "      <td>26339.000000</td>\n",
       "      <td>25922.00000</td>\n",
       "      <td>25153.000000</td>\n",
       "      <td>25571.000000</td>\n",
       "      <td>26339.000000</td>\n",
       "      <td>25922.000000</td>\n",
       "    </tr>\n",
       "    <tr>\n",
       "      <th>mean</th>\n",
       "      <td>327.514615</td>\n",
       "      <td>322.962970</td>\n",
       "      <td>324.157122</td>\n",
       "      <td>303.345673</td>\n",
       "      <td>104.637486</td>\n",
       "      <td>104.752398</td>\n",
       "      <td>107.728207</td>\n",
       "      <td>101.943889</td>\n",
       "      <td>2.463802</td>\n",
       "      <td>2.666419</td>\n",
       "      <td>2.651999</td>\n",
       "      <td>2.441170</td>\n",
       "      <td>126.393392</td>\n",
       "      <td>126.729459</td>\n",
       "      <td>125.717301</td>\n",
       "      <td>124.94144</td>\n",
       "      <td>192.600982</td>\n",
       "      <td>200.981292</td>\n",
       "      <td>197.526489</td>\n",
       "      <td>192.734315</td>\n",
       "    </tr>\n",
       "    <tr>\n",
       "      <th>std</th>\n",
       "      <td>398.019701</td>\n",
       "      <td>408.114237</td>\n",
       "      <td>416.540455</td>\n",
       "      <td>404.588583</td>\n",
       "      <td>120.614894</td>\n",
       "      <td>124.523970</td>\n",
       "      <td>126.902505</td>\n",
       "      <td>125.375109</td>\n",
       "      <td>2.789128</td>\n",
       "      <td>3.031593</td>\n",
       "      <td>3.074987</td>\n",
       "      <td>2.516339</td>\n",
       "      <td>108.477235</td>\n",
       "      <td>109.765267</td>\n",
       "      <td>109.437851</td>\n",
       "      <td>111.36376</td>\n",
       "      <td>192.646318</td>\n",
       "      <td>196.791224</td>\n",
       "      <td>191.301305</td>\n",
       "      <td>188.400286</td>\n",
       "    </tr>\n",
       "    <tr>\n",
       "      <th>min</th>\n",
       "      <td>0.000000</td>\n",
       "      <td>0.000000</td>\n",
       "      <td>0.000000</td>\n",
       "      <td>0.000000</td>\n",
       "      <td>0.000000</td>\n",
       "      <td>0.000000</td>\n",
       "      <td>0.000000</td>\n",
       "      <td>0.000000</td>\n",
       "      <td>1.000000</td>\n",
       "      <td>1.000000</td>\n",
       "      <td>1.000000</td>\n",
       "      <td>1.000000</td>\n",
       "      <td>1.000000</td>\n",
       "      <td>1.000000</td>\n",
       "      <td>1.000000</td>\n",
       "      <td>1.00000</td>\n",
       "      <td>1.000000</td>\n",
       "      <td>0.500000</td>\n",
       "      <td>0.500000</td>\n",
       "      <td>1.000000</td>\n",
       "    </tr>\n",
       "    <tr>\n",
       "      <th>25%</th>\n",
       "      <td>109.000000</td>\n",
       "      <td>100.000000</td>\n",
       "      <td>90.000000</td>\n",
       "      <td>52.000000</td>\n",
       "      <td>30.000000</td>\n",
       "      <td>30.000000</td>\n",
       "      <td>30.000000</td>\n",
       "      <td>28.000000</td>\n",
       "      <td>1.000000</td>\n",
       "      <td>1.000000</td>\n",
       "      <td>1.000000</td>\n",
       "      <td>1.000000</td>\n",
       "      <td>25.000000</td>\n",
       "      <td>25.000000</td>\n",
       "      <td>25.000000</td>\n",
       "      <td>25.00000</td>\n",
       "      <td>82.000000</td>\n",
       "      <td>92.000000</td>\n",
       "      <td>87.000000</td>\n",
       "      <td>69.000000</td>\n",
       "    </tr>\n",
       "    <tr>\n",
       "      <th>50%</th>\n",
       "      <td>230.000000</td>\n",
       "      <td>220.000000</td>\n",
       "      <td>225.000000</td>\n",
       "      <td>200.000000</td>\n",
       "      <td>110.000000</td>\n",
       "      <td>110.000000</td>\n",
       "      <td>98.000000</td>\n",
       "      <td>61.000000</td>\n",
       "      <td>1.000000</td>\n",
       "      <td>1.000000</td>\n",
       "      <td>1.000000</td>\n",
       "      <td>2.000000</td>\n",
       "      <td>145.000000</td>\n",
       "      <td>145.000000</td>\n",
       "      <td>145.000000</td>\n",
       "      <td>145.00000</td>\n",
       "      <td>154.000000</td>\n",
       "      <td>154.000000</td>\n",
       "      <td>154.000000</td>\n",
       "      <td>164.000000</td>\n",
       "    </tr>\n",
       "    <tr>\n",
       "      <th>75%</th>\n",
       "      <td>437.500000</td>\n",
       "      <td>428.000000</td>\n",
       "      <td>434.500000</td>\n",
       "      <td>415.000000</td>\n",
       "      <td>120.000000</td>\n",
       "      <td>128.000000</td>\n",
       "      <td>144.000000</td>\n",
       "      <td>144.000000</td>\n",
       "      <td>3.000000</td>\n",
       "      <td>3.000000</td>\n",
       "      <td>3.000000</td>\n",
       "      <td>3.000000</td>\n",
       "      <td>177.000000</td>\n",
       "      <td>177.000000</td>\n",
       "      <td>179.000000</td>\n",
       "      <td>179.00000</td>\n",
       "      <td>252.000000</td>\n",
       "      <td>252.000000</td>\n",
       "      <td>252.000000</td>\n",
       "      <td>252.000000</td>\n",
       "    </tr>\n",
       "    <tr>\n",
       "      <th>max</th>\n",
       "      <td>35190.000000</td>\n",
       "      <td>40335.000000</td>\n",
       "      <td>45320.000000</td>\n",
       "      <td>37235.000000</td>\n",
       "      <td>4010.000000</td>\n",
       "      <td>4010.000000</td>\n",
       "      <td>4449.000000</td>\n",
       "      <td>3399.000000</td>\n",
       "      <td>61.000000</td>\n",
       "      <td>54.000000</td>\n",
       "      <td>60.000000</td>\n",
       "      <td>84.000000</td>\n",
       "      <td>1555.000000</td>\n",
       "      <td>1555.000000</td>\n",
       "      <td>1555.000000</td>\n",
       "      <td>1555.00000</td>\n",
       "      <td>7546.000000</td>\n",
       "      <td>4365.000000</td>\n",
       "      <td>4076.000000</td>\n",
       "      <td>4061.000000</td>\n",
       "    </tr>\n",
       "  </tbody>\n",
       "</table>\n",
       "</div>"
      ],
      "text/plain": [
       "       total_rech_amt_6  total_rech_amt_7  total_rech_amt_8  total_rech_amt_9  \\\n",
       "count      99999.000000      99999.000000      99999.000000      99999.000000   \n",
       "mean         327.514615        322.962970        324.157122        303.345673   \n",
       "std          398.019701        408.114237        416.540455        404.588583   \n",
       "min            0.000000          0.000000          0.000000          0.000000   \n",
       "25%          109.000000        100.000000         90.000000         52.000000   \n",
       "50%          230.000000        220.000000        225.000000        200.000000   \n",
       "75%          437.500000        428.000000        434.500000        415.000000   \n",
       "max        35190.000000      40335.000000      45320.000000      37235.000000   \n",
       "\n",
       "       max_rech_amt_6  max_rech_amt_7  max_rech_amt_8  max_rech_amt_9  \\\n",
       "count    99999.000000    99999.000000    99999.000000    99999.000000   \n",
       "mean       104.637486      104.752398      107.728207      101.943889   \n",
       "std        120.614894      124.523970      126.902505      125.375109   \n",
       "min          0.000000        0.000000        0.000000        0.000000   \n",
       "25%         30.000000       30.000000       30.000000       28.000000   \n",
       "50%        110.000000      110.000000       98.000000       61.000000   \n",
       "75%        120.000000      128.000000      144.000000      144.000000   \n",
       "max       4010.000000     4010.000000     4449.000000     3399.000000   \n",
       "\n",
       "       total_rech_data_6  total_rech_data_7  total_rech_data_8  \\\n",
       "count       25153.000000       25571.000000       26339.000000   \n",
       "mean            2.463802           2.666419           2.651999   \n",
       "std             2.789128           3.031593           3.074987   \n",
       "min             1.000000           1.000000           1.000000   \n",
       "25%             1.000000           1.000000           1.000000   \n",
       "50%             1.000000           1.000000           1.000000   \n",
       "75%             3.000000           3.000000           3.000000   \n",
       "max            61.000000          54.000000          60.000000   \n",
       "\n",
       "       total_rech_data_9  max_rech_data_6  max_rech_data_7  max_rech_data_8  \\\n",
       "count       25922.000000     25153.000000     25571.000000     26339.000000   \n",
       "mean            2.441170       126.393392       126.729459       125.717301   \n",
       "std             2.516339       108.477235       109.765267       109.437851   \n",
       "min             1.000000         1.000000         1.000000         1.000000   \n",
       "25%             1.000000        25.000000        25.000000        25.000000   \n",
       "50%             2.000000       145.000000       145.000000       145.000000   \n",
       "75%             3.000000       177.000000       177.000000       179.000000   \n",
       "max            84.000000      1555.000000      1555.000000      1555.000000   \n",
       "\n",
       "       max_rech_data_9  av_rech_amt_data_6  av_rech_amt_data_7  \\\n",
       "count      25922.00000        25153.000000        25571.000000   \n",
       "mean         124.94144          192.600982          200.981292   \n",
       "std          111.36376          192.646318          196.791224   \n",
       "min            1.00000            1.000000            0.500000   \n",
       "25%           25.00000           82.000000           92.000000   \n",
       "50%          145.00000          154.000000          154.000000   \n",
       "75%          179.00000          252.000000          252.000000   \n",
       "max         1555.00000         7546.000000         4365.000000   \n",
       "\n",
       "       av_rech_amt_data_8  av_rech_amt_data_9  \n",
       "count        26339.000000        25922.000000  \n",
       "mean           197.526489          192.734315  \n",
       "std            191.301305          188.400286  \n",
       "min              0.500000            1.000000  \n",
       "25%             87.000000           69.000000  \n",
       "50%            154.000000          164.000000  \n",
       "75%            252.000000          252.000000  \n",
       "max           4076.000000         4061.000000  "
      ]
     },
     "execution_count": 7,
     "metadata": {},
     "output_type": "execute_result"
    }
   ],
   "source": [
    "tel_df[rech_col].describe(include='all')"
   ]
  },
  {
   "cell_type": "markdown",
   "metadata": {},
   "source": [
    "We have null values present in the columns , thus need to replace them with 0 as null values represent no recharge done.\n",
    "\n",
    "We don't need to impute for month 9 as it would anyhow would get dropped"
   ]
  },
  {
   "cell_type": "markdown",
   "metadata": {},
   "source": [
    "#### 2. Filter High-Value Customers\n",
    "\n",
    "Need to predict churn only for the high-value customers. Define high-value customers as follows: \n",
    "Those who have recharged with an amount more than or equal to X, where X is the 70th percentile \n",
    "of the average recharge amount in the first two months (the good phase)."
   ]
  },
  {
   "cell_type": "code",
   "execution_count": 8,
   "metadata": {},
   "outputs": [],
   "source": [
    "tel_df[rech_col] = tel_df[rech_col].apply(lambda x : x.fillna(0))"
   ]
  },
  {
   "cell_type": "markdown",
   "metadata": {},
   "source": [
    "Creating column for high-value customers recharges"
   ]
  },
  {
   "cell_type": "code",
   "execution_count": 9,
   "metadata": {},
   "outputs": [],
   "source": [
    "tel_df['av_rech_amt_67'] = (((tel_df['total_rech_data_6'] * tel_df['av_rech_amt_data_6']) + tel_df['total_rech_amt_6'])\n",
    "                         + ((tel_df['total_rech_data_7'] * tel_df['av_rech_amt_data_7']) + tel_df['total_rech_amt_7']))/2"
   ]
  },
  {
   "cell_type": "markdown",
   "metadata": {},
   "source": [
    "Getting the 70%ile which defines the High-Value Customer"
   ]
  },
  {
   "cell_type": "code",
   "execution_count": 10,
   "metadata": {},
   "outputs": [
    {
     "data": {
      "text/plain": [
       "478.0"
      ]
     },
     "execution_count": 10,
     "metadata": {},
     "output_type": "execute_result"
    }
   ],
   "source": [
    "tel_df.av_rech_amt_67.quantile(0.7)"
   ]
  },
  {
   "cell_type": "markdown",
   "metadata": {},
   "source": [
    "Extracting data for High Value customers"
   ]
  },
  {
   "cell_type": "code",
   "execution_count": 11,
   "metadata": {},
   "outputs": [
    {
     "data": {
      "text/plain": [
       "(30001, 227)"
      ]
     },
     "execution_count": 11,
     "metadata": {},
     "output_type": "execute_result"
    }
   ],
   "source": [
    "telcom_hv_df = tel_df[tel_df.av_rech_amt_67 >= tel_df.av_rech_amt_67.quantile(0.7)]\n",
    "telcom_hv_df.shape"
   ]
  },
  {
   "cell_type": "markdown",
   "metadata": {},
   "source": [
    "#### 3. Tagging Churners\n",
    "\n",
    "Now tag the churned customers (churn=1, else 0) based on the fourth month as follows: Those who have not made any calls (either incoming or outgoing) AND have not used mobile internet even once in the churn phase. The attributes you need to use to tag churners are:\n",
    "\n",
    "- total_ic_mou_9\n",
    "\n",
    "- total_og_mou_9\n",
    "\n",
    "- vol_2g_mb_9\n",
    "\n",
    "- vol_3g_mb_9"
   ]
  },
  {
   "cell_type": "code",
   "execution_count": 12,
   "metadata": {},
   "outputs": [],
   "source": [
    "# List for predicting churn\n",
    "churn_var_list = ['total_ic_mou_9', 'total_og_mou_9', 'vol_2g_mb_9', 'vol_3g_mb_9']"
   ]
  },
  {
   "cell_type": "code",
   "execution_count": 13,
   "metadata": {},
   "outputs": [
    {
     "data": {
      "text/plain": [
       "total_ic_mou_9    0.0\n",
       "total_og_mou_9    0.0\n",
       "vol_2g_mb_9       0.0\n",
       "vol_3g_mb_9       0.0\n",
       "dtype: float64"
      ]
     },
     "execution_count": 13,
     "metadata": {},
     "output_type": "execute_result"
    }
   ],
   "source": [
    "telcom_hv_df[churn_var_list].isnull().mean()"
   ]
  },
  {
   "cell_type": "code",
   "execution_count": 14,
   "metadata": {},
   "outputs": [],
   "source": [
    "# Creating new col for combined data and call usage\n",
    "telcom_hv_df['total_calls_9'] = telcom_hv_df['total_ic_mou_9'] + telcom_hv_df['total_og_mou_9']\n",
    "telcom_hv_df['total_data_9'] = telcom_hv_df['vol_2g_mb_9'] + telcom_hv_df['vol_3g_mb_9']"
   ]
  },
  {
   "cell_type": "markdown",
   "metadata": {},
   "source": [
    "Creating Churn variable based on above two col for predicting customer churn\n",
    "\n",
    "- 1-->CHURN\n",
    "- 0-->NO CHURN"
   ]
  },
  {
   "cell_type": "code",
   "execution_count": 15,
   "metadata": {},
   "outputs": [],
   "source": [
    "telcom_hv_df['Churn'] = telcom_hv_df.apply(lambda val: 1 if (val.total_calls_9 == 0 and val.total_data_9 == 0) \n",
    "                                           else 0, axis=1)"
   ]
  },
  {
   "cell_type": "code",
   "execution_count": 16,
   "metadata": {},
   "outputs": [
    {
     "data": {
      "text/html": [
       "<div>\n",
       "<style scoped>\n",
       "    .dataframe tbody tr th:only-of-type {\n",
       "        vertical-align: middle;\n",
       "    }\n",
       "\n",
       "    .dataframe tbody tr th {\n",
       "        vertical-align: top;\n",
       "    }\n",
       "\n",
       "    .dataframe thead th {\n",
       "        text-align: right;\n",
       "    }\n",
       "</style>\n",
       "<table border=\"1\" class=\"dataframe\">\n",
       "  <thead>\n",
       "    <tr style=\"text-align: right;\">\n",
       "      <th></th>\n",
       "      <th>mobile_number</th>\n",
       "      <th>circle_id</th>\n",
       "      <th>loc_og_t2o_mou</th>\n",
       "      <th>std_og_t2o_mou</th>\n",
       "      <th>loc_ic_t2o_mou</th>\n",
       "      <th>last_date_of_month_6</th>\n",
       "      <th>last_date_of_month_7</th>\n",
       "      <th>last_date_of_month_8</th>\n",
       "      <th>last_date_of_month_9</th>\n",
       "      <th>arpu_6</th>\n",
       "      <th>...</th>\n",
       "      <th>fb_user_9</th>\n",
       "      <th>aon</th>\n",
       "      <th>aug_vbc_3g</th>\n",
       "      <th>jul_vbc_3g</th>\n",
       "      <th>jun_vbc_3g</th>\n",
       "      <th>sep_vbc_3g</th>\n",
       "      <th>av_rech_amt_67</th>\n",
       "      <th>total_calls_9</th>\n",
       "      <th>total_data_9</th>\n",
       "      <th>Churn</th>\n",
       "    </tr>\n",
       "  </thead>\n",
       "  <tbody>\n",
       "    <tr>\n",
       "      <th>0</th>\n",
       "      <td>7000842753</td>\n",
       "      <td>109</td>\n",
       "      <td>0.0</td>\n",
       "      <td>0.0</td>\n",
       "      <td>0.0</td>\n",
       "      <td>6/30/2014</td>\n",
       "      <td>7/31/2014</td>\n",
       "      <td>8/31/2014</td>\n",
       "      <td>9/30/2014</td>\n",
       "      <td>197.385</td>\n",
       "      <td>...</td>\n",
       "      <td>NaN</td>\n",
       "      <td>968</td>\n",
       "      <td>30.40</td>\n",
       "      <td>0.00</td>\n",
       "      <td>101.20</td>\n",
       "      <td>3.58</td>\n",
       "      <td>559.0</td>\n",
       "      <td>0.00</td>\n",
       "      <td>0.00</td>\n",
       "      <td>1</td>\n",
       "    </tr>\n",
       "    <tr>\n",
       "      <th>7</th>\n",
       "      <td>7000701601</td>\n",
       "      <td>109</td>\n",
       "      <td>0.0</td>\n",
       "      <td>0.0</td>\n",
       "      <td>0.0</td>\n",
       "      <td>6/30/2014</td>\n",
       "      <td>7/31/2014</td>\n",
       "      <td>8/31/2014</td>\n",
       "      <td>9/30/2014</td>\n",
       "      <td>1069.180</td>\n",
       "      <td>...</td>\n",
       "      <td>NaN</td>\n",
       "      <td>802</td>\n",
       "      <td>57.74</td>\n",
       "      <td>19.38</td>\n",
       "      <td>18.74</td>\n",
       "      <td>0.00</td>\n",
       "      <td>1185.0</td>\n",
       "      <td>0.00</td>\n",
       "      <td>0.00</td>\n",
       "      <td>1</td>\n",
       "    </tr>\n",
       "    <tr>\n",
       "      <th>8</th>\n",
       "      <td>7001524846</td>\n",
       "      <td>109</td>\n",
       "      <td>0.0</td>\n",
       "      <td>0.0</td>\n",
       "      <td>0.0</td>\n",
       "      <td>6/30/2014</td>\n",
       "      <td>7/31/2014</td>\n",
       "      <td>8/31/2014</td>\n",
       "      <td>9/30/2014</td>\n",
       "      <td>378.721</td>\n",
       "      <td>...</td>\n",
       "      <td>NaN</td>\n",
       "      <td>315</td>\n",
       "      <td>21.03</td>\n",
       "      <td>910.65</td>\n",
       "      <td>122.16</td>\n",
       "      <td>0.00</td>\n",
       "      <td>696.0</td>\n",
       "      <td>177.09</td>\n",
       "      <td>0.00</td>\n",
       "      <td>0</td>\n",
       "    </tr>\n",
       "    <tr>\n",
       "      <th>21</th>\n",
       "      <td>7002124215</td>\n",
       "      <td>109</td>\n",
       "      <td>0.0</td>\n",
       "      <td>0.0</td>\n",
       "      <td>0.0</td>\n",
       "      <td>6/30/2014</td>\n",
       "      <td>7/31/2014</td>\n",
       "      <td>8/31/2014</td>\n",
       "      <td>9/30/2014</td>\n",
       "      <td>514.453</td>\n",
       "      <td>...</td>\n",
       "      <td>NaN</td>\n",
       "      <td>720</td>\n",
       "      <td>0.00</td>\n",
       "      <td>0.00</td>\n",
       "      <td>0.00</td>\n",
       "      <td>0.00</td>\n",
       "      <td>640.0</td>\n",
       "      <td>1284.14</td>\n",
       "      <td>0.00</td>\n",
       "      <td>0</td>\n",
       "    </tr>\n",
       "    <tr>\n",
       "      <th>23</th>\n",
       "      <td>7000887461</td>\n",
       "      <td>109</td>\n",
       "      <td>0.0</td>\n",
       "      <td>0.0</td>\n",
       "      <td>0.0</td>\n",
       "      <td>6/30/2014</td>\n",
       "      <td>7/31/2014</td>\n",
       "      <td>8/31/2014</td>\n",
       "      <td>9/30/2014</td>\n",
       "      <td>74.350</td>\n",
       "      <td>...</td>\n",
       "      <td>1.0</td>\n",
       "      <td>604</td>\n",
       "      <td>40.45</td>\n",
       "      <td>51.86</td>\n",
       "      <td>0.00</td>\n",
       "      <td>0.00</td>\n",
       "      <td>583.0</td>\n",
       "      <td>255.11</td>\n",
       "      <td>328.67</td>\n",
       "      <td>0</td>\n",
       "    </tr>\n",
       "  </tbody>\n",
       "</table>\n",
       "<p>5 rows × 230 columns</p>\n",
       "</div>"
      ],
      "text/plain": [
       "    mobile_number  circle_id  loc_og_t2o_mou  std_og_t2o_mou  loc_ic_t2o_mou  \\\n",
       "0      7000842753        109             0.0             0.0             0.0   \n",
       "7      7000701601        109             0.0             0.0             0.0   \n",
       "8      7001524846        109             0.0             0.0             0.0   \n",
       "21     7002124215        109             0.0             0.0             0.0   \n",
       "23     7000887461        109             0.0             0.0             0.0   \n",
       "\n",
       "   last_date_of_month_6 last_date_of_month_7 last_date_of_month_8  \\\n",
       "0             6/30/2014            7/31/2014            8/31/2014   \n",
       "7             6/30/2014            7/31/2014            8/31/2014   \n",
       "8             6/30/2014            7/31/2014            8/31/2014   \n",
       "21            6/30/2014            7/31/2014            8/31/2014   \n",
       "23            6/30/2014            7/31/2014            8/31/2014   \n",
       "\n",
       "   last_date_of_month_9    arpu_6  ...  fb_user_9  aon  aug_vbc_3g  \\\n",
       "0             9/30/2014   197.385  ...        NaN  968       30.40   \n",
       "7             9/30/2014  1069.180  ...        NaN  802       57.74   \n",
       "8             9/30/2014   378.721  ...        NaN  315       21.03   \n",
       "21            9/30/2014   514.453  ...        NaN  720        0.00   \n",
       "23            9/30/2014    74.350  ...        1.0  604       40.45   \n",
       "\n",
       "    jul_vbc_3g  jun_vbc_3g  sep_vbc_3g  av_rech_amt_67  total_calls_9  \\\n",
       "0         0.00      101.20        3.58           559.0           0.00   \n",
       "7        19.38       18.74        0.00          1185.0           0.00   \n",
       "8       910.65      122.16        0.00           696.0         177.09   \n",
       "21        0.00        0.00        0.00           640.0        1284.14   \n",
       "23       51.86        0.00        0.00           583.0         255.11   \n",
       "\n",
       "    total_data_9  Churn  \n",
       "0           0.00      1  \n",
       "7           0.00      1  \n",
       "8           0.00      0  \n",
       "21          0.00      0  \n",
       "23        328.67      0  \n",
       "\n",
       "[5 rows x 230 columns]"
      ]
     },
     "execution_count": 16,
     "metadata": {},
     "output_type": "execute_result"
    }
   ],
   "source": [
    "telcom_hv_df.head()"
   ]
  },
  {
   "cell_type": "markdown",
   "metadata": {},
   "source": [
    "Checking ratio of Churn "
   ]
  },
  {
   "cell_type": "code",
   "execution_count": 17,
   "metadata": {},
   "outputs": [
    {
     "data": {
      "text/plain": [
       "0    91.863605\n",
       "1     8.136395\n",
       "Name: Churn, dtype: float64"
      ]
     },
     "execution_count": 17,
     "metadata": {},
     "output_type": "execute_result"
    }
   ],
   "source": [
    "(telcom_hv_df.Churn.value_counts()/telcom_hv_df.shape[0])*100"
   ]
  },
  {
   "cell_type": "markdown",
   "metadata": {},
   "source": [
    "### Handling Missing Values"
   ]
  },
  {
   "cell_type": "markdown",
   "metadata": {},
   "source": [
    "As month 9 would be the churn month so the data  inn this month would be of no use hence dropping"
   ]
  },
  {
   "cell_type": "code",
   "execution_count": 18,
   "metadata": {},
   "outputs": [
    {
     "data": {
      "text/plain": [
       "(30001, 174)"
      ]
     },
     "execution_count": 18,
     "metadata": {},
     "output_type": "execute_result"
    }
   ],
   "source": [
    "telcom_hv_df = telcom_hv_df.filter(regex='[^9]$', axis=1)\n",
    "telcom_hv_df.shape"
   ]
  },
  {
   "cell_type": "code",
   "execution_count": 19,
   "metadata": {},
   "outputs": [
    {
     "name": "stdout",
     "output_type": "stream",
     "text": [
      "<class 'pandas.core.frame.DataFrame'>\n",
      "Int64Index: 30001 entries, 0 to 99997\n",
      "Columns: 174 entries, mobile_number to Churn\n",
      "dtypes: float64(137), int64(28), object(9)\n",
      "memory usage: 40.1+ MB\n"
     ]
    }
   ],
   "source": [
    "telcom_hv_df.info()"
   ]
  },
  {
   "cell_type": "markdown",
   "metadata": {},
   "source": [
    "#### Dropping columns having just one unique value"
   ]
  },
  {
   "cell_type": "code",
   "execution_count": 20,
   "metadata": {},
   "outputs": [],
   "source": [
    "one_unq_val_var = [ col for col in telcom_hv_df.columns if telcom_hv_df[''+col+''].nunique() < 2 ]\n",
    "telcom_hv_df.drop(one_unq_val_var, axis=1, inplace= True)"
   ]
  },
  {
   "cell_type": "markdown",
   "metadata": {},
   "source": [
    "Dropping Mobile Number as it is not useful in prediction"
   ]
  },
  {
   "cell_type": "code",
   "execution_count": 21,
   "metadata": {},
   "outputs": [],
   "source": [
    "telcom_hv_df.drop('mobile_number', axis=1, inplace=True)"
   ]
  },
  {
   "cell_type": "code",
   "execution_count": 22,
   "metadata": {
    "scrolled": true
   },
   "outputs": [
    {
     "data": {
      "text/plain": [
       "['date_of_last_rech_6',\n",
       " 'date_of_last_rech_7',\n",
       " 'date_of_last_rech_8',\n",
       " 'date_of_last_rech_data_6',\n",
       " 'date_of_last_rech_data_7',\n",
       " 'date_of_last_rech_data_8']"
      ]
     },
     "execution_count": 22,
     "metadata": {},
     "output_type": "execute_result"
    }
   ],
   "source": [
    "date_var = [col for col in telcom_hv_df.columns if 'date' in col]\n",
    "date_var"
   ]
  },
  {
   "cell_type": "markdown",
   "metadata": {},
   "source": [
    "Now checking for hidden Categorical variables "
   ]
  },
  {
   "cell_type": "code",
   "execution_count": 23,
   "metadata": {},
   "outputs": [
    {
     "data": {
      "text/plain": [
       "['night_pck_user_6',\n",
       " 'night_pck_user_7',\n",
       " 'night_pck_user_8',\n",
       " 'fb_user_6',\n",
       " 'fb_user_7',\n",
       " 'fb_user_8',\n",
       " 'Churn']"
      ]
     },
     "execution_count": 23,
     "metadata": {},
     "output_type": "execute_result"
    }
   ],
   "source": [
    "cat_var = [ col for col in telcom_hv_df.columns if  telcom_hv_df[''+col+''].nunique() < 3 ]\n",
    "cat_var"
   ]
  },
  {
   "cell_type": "code",
   "execution_count": 24,
   "metadata": {},
   "outputs": [
    {
     "name": "stdout",
     "output_type": "stream",
     "text": [
      "<class 'pandas.core.frame.DataFrame'>\n",
      "Int64Index: 30001 entries, 0 to 99997\n",
      "Columns: 160 entries, arpu_6 to Churn\n",
      "dtypes: float64(128), int64(26), object(6)\n",
      "memory usage: 36.9+ MB\n"
     ]
    }
   ],
   "source": [
    "telcom_hv_df.info()"
   ]
  },
  {
   "cell_type": "code",
   "execution_count": 25,
   "metadata": {},
   "outputs": [
    {
     "data": {
      "text/plain": [
       "['arpu_6',\n",
       " 'arpu_7',\n",
       " 'arpu_8',\n",
       " 'onnet_mou_6',\n",
       " 'onnet_mou_7',\n",
       " 'onnet_mou_8',\n",
       " 'offnet_mou_6',\n",
       " 'offnet_mou_7',\n",
       " 'offnet_mou_8',\n",
       " 'roam_ic_mou_6',\n",
       " 'roam_ic_mou_7',\n",
       " 'roam_ic_mou_8',\n",
       " 'roam_og_mou_6',\n",
       " 'roam_og_mou_7',\n",
       " 'roam_og_mou_8',\n",
       " 'loc_og_t2t_mou_6',\n",
       " 'loc_og_t2t_mou_7',\n",
       " 'loc_og_t2t_mou_8',\n",
       " 'loc_og_t2m_mou_6',\n",
       " 'loc_og_t2m_mou_7',\n",
       " 'loc_og_t2m_mou_8',\n",
       " 'loc_og_t2f_mou_6',\n",
       " 'loc_og_t2f_mou_7',\n",
       " 'loc_og_t2f_mou_8',\n",
       " 'loc_og_t2c_mou_6',\n",
       " 'loc_og_t2c_mou_7',\n",
       " 'loc_og_t2c_mou_8',\n",
       " 'loc_og_mou_6',\n",
       " 'loc_og_mou_7',\n",
       " 'loc_og_mou_8',\n",
       " 'std_og_t2t_mou_6',\n",
       " 'std_og_t2t_mou_7',\n",
       " 'std_og_t2t_mou_8',\n",
       " 'std_og_t2m_mou_6',\n",
       " 'std_og_t2m_mou_7',\n",
       " 'std_og_t2m_mou_8',\n",
       " 'std_og_t2f_mou_6',\n",
       " 'std_og_t2f_mou_7',\n",
       " 'std_og_t2f_mou_8',\n",
       " 'std_og_mou_6',\n",
       " 'std_og_mou_7',\n",
       " 'std_og_mou_8',\n",
       " 'isd_og_mou_6',\n",
       " 'isd_og_mou_7',\n",
       " 'isd_og_mou_8',\n",
       " 'spl_og_mou_6',\n",
       " 'spl_og_mou_7',\n",
       " 'spl_og_mou_8',\n",
       " 'og_others_6',\n",
       " 'og_others_7',\n",
       " 'og_others_8',\n",
       " 'total_og_mou_6',\n",
       " 'total_og_mou_7',\n",
       " 'total_og_mou_8',\n",
       " 'loc_ic_t2t_mou_6',\n",
       " 'loc_ic_t2t_mou_7',\n",
       " 'loc_ic_t2t_mou_8',\n",
       " 'loc_ic_t2m_mou_6',\n",
       " 'loc_ic_t2m_mou_7',\n",
       " 'loc_ic_t2m_mou_8',\n",
       " 'loc_ic_t2f_mou_6',\n",
       " 'loc_ic_t2f_mou_7',\n",
       " 'loc_ic_t2f_mou_8',\n",
       " 'loc_ic_mou_6',\n",
       " 'loc_ic_mou_7',\n",
       " 'loc_ic_mou_8',\n",
       " 'std_ic_t2t_mou_6',\n",
       " 'std_ic_t2t_mou_7',\n",
       " 'std_ic_t2t_mou_8',\n",
       " 'std_ic_t2m_mou_6',\n",
       " 'std_ic_t2m_mou_7',\n",
       " 'std_ic_t2m_mou_8',\n",
       " 'std_ic_t2f_mou_6',\n",
       " 'std_ic_t2f_mou_7',\n",
       " 'std_ic_t2f_mou_8',\n",
       " 'std_ic_mou_6',\n",
       " 'std_ic_mou_7',\n",
       " 'std_ic_mou_8',\n",
       " 'total_ic_mou_6',\n",
       " 'total_ic_mou_7',\n",
       " 'total_ic_mou_8',\n",
       " 'spl_ic_mou_6',\n",
       " 'spl_ic_mou_7',\n",
       " 'spl_ic_mou_8',\n",
       " 'isd_ic_mou_6',\n",
       " 'isd_ic_mou_7',\n",
       " 'isd_ic_mou_8',\n",
       " 'ic_others_6',\n",
       " 'ic_others_7',\n",
       " 'ic_others_8',\n",
       " 'total_rech_num_6',\n",
       " 'total_rech_num_7',\n",
       " 'total_rech_num_8',\n",
       " 'total_rech_amt_6',\n",
       " 'total_rech_amt_7',\n",
       " 'total_rech_amt_8',\n",
       " 'max_rech_amt_6',\n",
       " 'max_rech_amt_7',\n",
       " 'max_rech_amt_8',\n",
       " 'last_day_rch_amt_6',\n",
       " 'last_day_rch_amt_7',\n",
       " 'last_day_rch_amt_8',\n",
       " 'total_rech_data_6',\n",
       " 'total_rech_data_7',\n",
       " 'total_rech_data_8',\n",
       " 'max_rech_data_6',\n",
       " 'max_rech_data_7',\n",
       " 'max_rech_data_8',\n",
       " 'count_rech_2g_6',\n",
       " 'count_rech_2g_7',\n",
       " 'count_rech_2g_8',\n",
       " 'count_rech_3g_6',\n",
       " 'count_rech_3g_7',\n",
       " 'count_rech_3g_8',\n",
       " 'av_rech_amt_data_6',\n",
       " 'av_rech_amt_data_7',\n",
       " 'av_rech_amt_data_8',\n",
       " 'vol_2g_mb_6',\n",
       " 'vol_2g_mb_7',\n",
       " 'vol_2g_mb_8',\n",
       " 'vol_3g_mb_6',\n",
       " 'vol_3g_mb_7',\n",
       " 'vol_3g_mb_8',\n",
       " 'arpu_3g_6',\n",
       " 'arpu_3g_7',\n",
       " 'arpu_3g_8',\n",
       " 'arpu_2g_6',\n",
       " 'arpu_2g_7',\n",
       " 'arpu_2g_8',\n",
       " 'monthly_2g_6',\n",
       " 'monthly_2g_7',\n",
       " 'monthly_2g_8',\n",
       " 'sachet_2g_6',\n",
       " 'sachet_2g_7',\n",
       " 'sachet_2g_8',\n",
       " 'monthly_3g_6',\n",
       " 'monthly_3g_7',\n",
       " 'monthly_3g_8',\n",
       " 'sachet_3g_6',\n",
       " 'sachet_3g_7',\n",
       " 'sachet_3g_8',\n",
       " 'aon',\n",
       " 'aug_vbc_3g',\n",
       " 'jul_vbc_3g',\n",
       " 'jun_vbc_3g',\n",
       " 'sep_vbc_3g',\n",
       " 'av_rech_amt_67']"
      ]
     },
     "execution_count": 25,
     "metadata": {},
     "output_type": "execute_result"
    }
   ],
   "source": [
    "num_var = [col for col in telcom_hv_df.columns if col not in cat_var+date_var]\n",
    "num_var"
   ]
  },
  {
   "cell_type": "code",
   "execution_count": 26,
   "metadata": {},
   "outputs": [
    {
     "data": {
      "text/plain": [
       "True"
      ]
     },
     "execution_count": 26,
     "metadata": {},
     "output_type": "execute_result"
    }
   ],
   "source": [
    "len(num_var) + len(cat_var) + len(date_var) == telcom_hv_df.shape[1]"
   ]
  },
  {
   "cell_type": "markdown",
   "metadata": {},
   "source": [
    "#### Imputing values for possible variables"
   ]
  },
  {
   "cell_type": "code",
   "execution_count": 27,
   "metadata": {},
   "outputs": [],
   "source": [
    "#telcom_hv_df[cat_var] = telcom_hv_df[cat_var].apply(lambda var : var.fillna(-1))"
   ]
  },
  {
   "cell_type": "code",
   "execution_count": 28,
   "metadata": {
    "scrolled": true
   },
   "outputs": [
    {
     "data": {
      "text/plain": [
       "night_pck_user_6    44.148528\n",
       "night_pck_user_7    43.145228\n",
       "night_pck_user_8    46.825106\n",
       "fb_user_6           44.148528\n",
       "fb_user_7           43.145228\n",
       "fb_user_8           46.825106\n",
       "Churn                0.000000\n",
       "dtype: float64"
      ]
     },
     "execution_count": 28,
     "metadata": {},
     "output_type": "execute_result"
    }
   ],
   "source": [
    "telcom_hv_df[cat_var].isnull().mean()*100"
   ]
  },
  {
   "cell_type": "markdown",
   "metadata": {},
   "source": [
    "Dropping all columns in cat_var except Churn as they have more than 30% missing values"
   ]
  },
  {
   "cell_type": "code",
   "execution_count": 29,
   "metadata": {},
   "outputs": [],
   "source": [
    "cat_var.pop()\n",
    "telcom_hv_df.drop(cat_var, axis =1, inplace = True)"
   ]
  },
  {
   "cell_type": "code",
   "execution_count": 30,
   "metadata": {},
   "outputs": [],
   "source": [
    "telcom_hv_df['Churn'] = telcom_hv_df['Churn'].astype('category')"
   ]
  },
  {
   "cell_type": "code",
   "execution_count": 31,
   "metadata": {},
   "outputs": [
    {
     "name": "stdout",
     "output_type": "stream",
     "text": [
      "null values of onnet_mou_6 is---> 1.8166061131295623 \n",
      "null values of onnet_mou_7 is---> 1.7899403353221561 \n",
      "null values of onnet_mou_8 is---> 3.9132028932368925 \n",
      "null values of offnet_mou_6 is---> 1.8166061131295623 \n",
      "null values of offnet_mou_7 is---> 1.7899403353221561 \n",
      "null values of offnet_mou_8 is---> 3.9132028932368925 \n",
      "null values of roam_ic_mou_6 is---> 1.8166061131295623 \n",
      "null values of roam_ic_mou_7 is---> 1.7899403353221561 \n",
      "null values of roam_ic_mou_8 is---> 3.9132028932368925 \n",
      "null values of roam_og_mou_6 is---> 1.8166061131295623 \n",
      "null values of roam_og_mou_7 is---> 1.7899403353221561 \n",
      "null values of roam_og_mou_8 is---> 3.9132028932368925 \n",
      "null values of loc_og_t2t_mou_6 is---> 1.8166061131295623 \n",
      "null values of loc_og_t2t_mou_7 is---> 1.7899403353221561 \n",
      "null values of loc_og_t2t_mou_8 is---> 3.9132028932368925 \n",
      "null values of loc_og_t2m_mou_6 is---> 1.8166061131295623 \n",
      "null values of loc_og_t2m_mou_7 is---> 1.7899403353221561 \n",
      "null values of loc_og_t2m_mou_8 is---> 3.9132028932368925 \n",
      "null values of loc_og_t2f_mou_6 is---> 1.8166061131295623 \n",
      "null values of loc_og_t2f_mou_7 is---> 1.7899403353221561 \n",
      "null values of loc_og_t2f_mou_8 is---> 3.9132028932368925 \n",
      "null values of loc_og_t2c_mou_6 is---> 1.8166061131295623 \n",
      "null values of loc_og_t2c_mou_7 is---> 1.7899403353221561 \n",
      "null values of loc_og_t2c_mou_8 is---> 3.9132028932368925 \n",
      "null values of loc_og_mou_6 is---> 1.8166061131295623 \n",
      "null values of loc_og_mou_7 is---> 1.7899403353221561 \n",
      "null values of loc_og_mou_8 is---> 3.9132028932368925 \n",
      "null values of std_og_t2t_mou_6 is---> 1.8166061131295623 \n",
      "null values of std_og_t2t_mou_7 is---> 1.7899403353221561 \n",
      "null values of std_og_t2t_mou_8 is---> 3.9132028932368925 \n",
      "null values of std_og_t2m_mou_6 is---> 1.8166061131295623 \n",
      "null values of std_og_t2m_mou_7 is---> 1.7899403353221561 \n",
      "null values of std_og_t2m_mou_8 is---> 3.9132028932368925 \n",
      "null values of std_og_t2f_mou_6 is---> 1.8166061131295623 \n",
      "null values of std_og_t2f_mou_7 is---> 1.7899403353221561 \n",
      "null values of std_og_t2f_mou_8 is---> 3.9132028932368925 \n",
      "null values of std_og_mou_6 is---> 1.8166061131295623 \n",
      "null values of std_og_mou_7 is---> 1.7899403353221561 \n",
      "null values of std_og_mou_8 is---> 3.9132028932368925 \n",
      "null values of isd_og_mou_6 is---> 1.8166061131295623 \n",
      "null values of isd_og_mou_7 is---> 1.7899403353221561 \n",
      "null values of isd_og_mou_8 is---> 3.9132028932368925 \n",
      "null values of spl_og_mou_6 is---> 1.8166061131295623 \n",
      "null values of spl_og_mou_7 is---> 1.7899403353221561 \n",
      "null values of spl_og_mou_8 is---> 3.9132028932368925 \n",
      "null values of og_others_6 is---> 1.8166061131295623 \n",
      "null values of og_others_7 is---> 1.7899403353221561 \n",
      "null values of og_others_8 is---> 3.9132028932368925 \n",
      "null values of loc_ic_t2t_mou_6 is---> 1.8166061131295623 \n",
      "null values of loc_ic_t2t_mou_7 is---> 1.7899403353221561 \n",
      "null values of loc_ic_t2t_mou_8 is---> 3.9132028932368925 \n",
      "null values of loc_ic_t2m_mou_6 is---> 1.8166061131295623 \n",
      "null values of loc_ic_t2m_mou_7 is---> 1.7899403353221561 \n",
      "null values of loc_ic_t2m_mou_8 is---> 3.9132028932368925 \n",
      "null values of loc_ic_t2f_mou_6 is---> 1.8166061131295623 \n",
      "null values of loc_ic_t2f_mou_7 is---> 1.7899403353221561 \n",
      "null values of loc_ic_t2f_mou_8 is---> 3.9132028932368925 \n",
      "null values of loc_ic_mou_6 is---> 1.8166061131295623 \n",
      "null values of loc_ic_mou_7 is---> 1.7899403353221561 \n",
      "null values of loc_ic_mou_8 is---> 3.9132028932368925 \n",
      "null values of std_ic_t2t_mou_6 is---> 1.8166061131295623 \n",
      "null values of std_ic_t2t_mou_7 is---> 1.7899403353221561 \n",
      "null values of std_ic_t2t_mou_8 is---> 3.9132028932368925 \n",
      "null values of std_ic_t2m_mou_6 is---> 1.8166061131295623 \n",
      "null values of std_ic_t2m_mou_7 is---> 1.7899403353221561 \n",
      "null values of std_ic_t2m_mou_8 is---> 3.9132028932368925 \n",
      "null values of std_ic_t2f_mou_6 is---> 1.8166061131295623 \n",
      "null values of std_ic_t2f_mou_7 is---> 1.7899403353221561 \n",
      "null values of std_ic_t2f_mou_8 is---> 3.9132028932368925 \n",
      "null values of std_ic_mou_6 is---> 1.8166061131295623 \n",
      "null values of std_ic_mou_7 is---> 1.7899403353221561 \n",
      "null values of std_ic_mou_8 is---> 3.9132028932368925 \n",
      "null values of spl_ic_mou_6 is---> 1.8166061131295623 \n",
      "null values of spl_ic_mou_7 is---> 1.7899403353221561 \n",
      "null values of spl_ic_mou_8 is---> 3.9132028932368925 \n",
      "null values of isd_ic_mou_6 is---> 1.8166061131295623 \n",
      "null values of isd_ic_mou_7 is---> 1.7899403353221561 \n",
      "null values of isd_ic_mou_8 is---> 3.9132028932368925 \n",
      "null values of ic_others_6 is---> 1.8166061131295623 \n",
      "null values of ic_others_7 is---> 1.7899403353221561 \n",
      "null values of ic_others_8 is---> 3.9132028932368925 \n",
      "null values of count_rech_2g_6 is---> 44.148528382387255 \n",
      "null values of count_rech_2g_7 is---> 43.14522849238359 \n",
      "null values of count_rech_2g_8 is---> 46.82510582980567 \n",
      "null values of count_rech_3g_6 is---> 44.148528382387255 \n",
      "null values of count_rech_3g_7 is---> 43.14522849238359 \n",
      "null values of count_rech_3g_8 is---> 46.82510582980567 \n",
      "null values of arpu_3g_6 is---> 44.148528382387255 \n",
      "null values of arpu_3g_7 is---> 43.14522849238359 \n",
      "null values of arpu_3g_8 is---> 46.82510582980567 \n",
      "null values of arpu_2g_6 is---> 44.148528382387255 \n",
      "null values of arpu_2g_7 is---> 43.14522849238359 \n",
      "null values of arpu_2g_8 is---> 46.82510582980567 \n"
     ]
    }
   ],
   "source": [
    "for col in num_var:\n",
    "    if telcom_hv_df[''+col+''].isnull().mean() > 0 :\n",
    "        print('null values of {0} is---> {1} '.format(col,telcom_hv_df[''+col+''].isnull().mean()*100))"
   ]
  },
  {
   "cell_type": "markdown",
   "metadata": {},
   "source": [
    "Dropping Columns having more than 40% null values "
   ]
  },
  {
   "cell_type": "code",
   "execution_count": 32,
   "metadata": {},
   "outputs": [],
   "source": [
    "num_var1 = []\n",
    "for col in num_var:\n",
    "    if telcom_hv_df[''+col+''].isnull().mean() > 0.4:\n",
    "        telcom_hv_df.drop(col, axis =1 , inplace=True)\n",
    "    else:\n",
    "        num_var1.append(col)"
   ]
  },
  {
   "cell_type": "code",
   "execution_count": 33,
   "metadata": {},
   "outputs": [
    {
     "data": {
      "text/html": [
       "<div>\n",
       "<style scoped>\n",
       "    .dataframe tbody tr th:only-of-type {\n",
       "        vertical-align: middle;\n",
       "    }\n",
       "\n",
       "    .dataframe tbody tr th {\n",
       "        vertical-align: top;\n",
       "    }\n",
       "\n",
       "    .dataframe thead th {\n",
       "        text-align: right;\n",
       "    }\n",
       "</style>\n",
       "<table border=\"1\" class=\"dataframe\">\n",
       "  <thead>\n",
       "    <tr style=\"text-align: right;\">\n",
       "      <th></th>\n",
       "      <th>arpu_6</th>\n",
       "      <th>arpu_7</th>\n",
       "      <th>arpu_8</th>\n",
       "      <th>onnet_mou_6</th>\n",
       "      <th>onnet_mou_7</th>\n",
       "      <th>onnet_mou_8</th>\n",
       "      <th>offnet_mou_6</th>\n",
       "      <th>offnet_mou_7</th>\n",
       "      <th>offnet_mou_8</th>\n",
       "      <th>roam_ic_mou_6</th>\n",
       "      <th>...</th>\n",
       "      <th>monthly_3g_8</th>\n",
       "      <th>sachet_3g_6</th>\n",
       "      <th>sachet_3g_7</th>\n",
       "      <th>sachet_3g_8</th>\n",
       "      <th>aon</th>\n",
       "      <th>aug_vbc_3g</th>\n",
       "      <th>jul_vbc_3g</th>\n",
       "      <th>jun_vbc_3g</th>\n",
       "      <th>sep_vbc_3g</th>\n",
       "      <th>av_rech_amt_67</th>\n",
       "    </tr>\n",
       "  </thead>\n",
       "  <tbody>\n",
       "    <tr>\n",
       "      <th>count</th>\n",
       "      <td>30001.000000</td>\n",
       "      <td>30001.000000</td>\n",
       "      <td>30001.000000</td>\n",
       "      <td>29456.000000</td>\n",
       "      <td>29464.000000</td>\n",
       "      <td>28827.000000</td>\n",
       "      <td>29456.000000</td>\n",
       "      <td>29464.000000</td>\n",
       "      <td>28827.000000</td>\n",
       "      <td>29456.000000</td>\n",
       "      <td>...</td>\n",
       "      <td>30001.000000</td>\n",
       "      <td>30001.000000</td>\n",
       "      <td>30001.000000</td>\n",
       "      <td>30001.000000</td>\n",
       "      <td>30001.000000</td>\n",
       "      <td>30001.000000</td>\n",
       "      <td>30001.000000</td>\n",
       "      <td>30001.000000</td>\n",
       "      <td>30001.000000</td>\n",
       "      <td>30001.000000</td>\n",
       "    </tr>\n",
       "    <tr>\n",
       "      <th>mean</th>\n",
       "      <td>558.490824</td>\n",
       "      <td>560.782203</td>\n",
       "      <td>508.597957</td>\n",
       "      <td>265.618262</td>\n",
       "      <td>272.700470</td>\n",
       "      <td>243.646938</td>\n",
       "      <td>380.608111</td>\n",
       "      <td>384.994337</td>\n",
       "      <td>348.723294</td>\n",
       "      <td>16.408431</td>\n",
       "      <td>...</td>\n",
       "      <td>0.211026</td>\n",
       "      <td>0.209393</td>\n",
       "      <td>0.227492</td>\n",
       "      <td>0.202393</td>\n",
       "      <td>1209.368754</td>\n",
       "      <td>169.138860</td>\n",
       "      <td>178.872765</td>\n",
       "      <td>158.523962</td>\n",
       "      <td>8.029788</td>\n",
       "      <td>1152.620628</td>\n",
       "    </tr>\n",
       "    <tr>\n",
       "      <th>std</th>\n",
       "      <td>460.640461</td>\n",
       "      <td>479.776947</td>\n",
       "      <td>501.961981</td>\n",
       "      <td>462.493645</td>\n",
       "      <td>482.972367</td>\n",
       "      <td>465.200856</td>\n",
       "      <td>484.257474</td>\n",
       "      <td>500.807874</td>\n",
       "      <td>486.918550</td>\n",
       "      <td>76.973057</td>\n",
       "      <td>...</td>\n",
       "      <td>0.617549</td>\n",
       "      <td>0.985674</td>\n",
       "      <td>1.089929</td>\n",
       "      <td>1.100107</td>\n",
       "      <td>957.677989</td>\n",
       "      <td>420.974354</td>\n",
       "      <td>443.544138</td>\n",
       "      <td>416.734860</td>\n",
       "      <td>52.378232</td>\n",
       "      <td>1358.713982</td>\n",
       "    </tr>\n",
       "    <tr>\n",
       "      <th>min</th>\n",
       "      <td>-2258.709000</td>\n",
       "      <td>-2014.045000</td>\n",
       "      <td>-945.808000</td>\n",
       "      <td>0.000000</td>\n",
       "      <td>0.000000</td>\n",
       "      <td>0.000000</td>\n",
       "      <td>0.000000</td>\n",
       "      <td>0.000000</td>\n",
       "      <td>0.000000</td>\n",
       "      <td>0.000000</td>\n",
       "      <td>...</td>\n",
       "      <td>0.000000</td>\n",
       "      <td>0.000000</td>\n",
       "      <td>0.000000</td>\n",
       "      <td>0.000000</td>\n",
       "      <td>180.000000</td>\n",
       "      <td>0.000000</td>\n",
       "      <td>0.000000</td>\n",
       "      <td>0.000000</td>\n",
       "      <td>0.000000</td>\n",
       "      <td>478.000000</td>\n",
       "    </tr>\n",
       "    <tr>\n",
       "      <th>25%</th>\n",
       "      <td>309.865000</td>\n",
       "      <td>309.826000</td>\n",
       "      <td>231.473000</td>\n",
       "      <td>19.240000</td>\n",
       "      <td>18.155000</td>\n",
       "      <td>14.255000</td>\n",
       "      <td>78.575000</td>\n",
       "      <td>76.040000</td>\n",
       "      <td>58.670000</td>\n",
       "      <td>0.000000</td>\n",
       "      <td>...</td>\n",
       "      <td>0.000000</td>\n",
       "      <td>0.000000</td>\n",
       "      <td>0.000000</td>\n",
       "      <td>0.000000</td>\n",
       "      <td>460.000000</td>\n",
       "      <td>0.000000</td>\n",
       "      <td>0.000000</td>\n",
       "      <td>0.000000</td>\n",
       "      <td>0.000000</td>\n",
       "      <td>603.000000</td>\n",
       "    </tr>\n",
       "    <tr>\n",
       "      <th>50%</th>\n",
       "      <td>481.694000</td>\n",
       "      <td>480.943000</td>\n",
       "      <td>427.585000</td>\n",
       "      <td>88.060000</td>\n",
       "      <td>86.885000</td>\n",
       "      <td>72.930000</td>\n",
       "      <td>229.635000</td>\n",
       "      <td>227.120000</td>\n",
       "      <td>197.590000</td>\n",
       "      <td>0.000000</td>\n",
       "      <td>...</td>\n",
       "      <td>0.000000</td>\n",
       "      <td>0.000000</td>\n",
       "      <td>0.000000</td>\n",
       "      <td>0.000000</td>\n",
       "      <td>846.000000</td>\n",
       "      <td>0.000000</td>\n",
       "      <td>0.000000</td>\n",
       "      <td>0.000000</td>\n",
       "      <td>0.000000</td>\n",
       "      <td>800.000000</td>\n",
       "    </tr>\n",
       "    <tr>\n",
       "      <th>75%</th>\n",
       "      <td>699.943000</td>\n",
       "      <td>698.315000</td>\n",
       "      <td>661.491000</td>\n",
       "      <td>297.415000</td>\n",
       "      <td>298.087500</td>\n",
       "      <td>255.025000</td>\n",
       "      <td>494.780000</td>\n",
       "      <td>500.365000</td>\n",
       "      <td>455.385000</td>\n",
       "      <td>0.000000</td>\n",
       "      <td>...</td>\n",
       "      <td>0.000000</td>\n",
       "      <td>0.000000</td>\n",
       "      <td>0.000000</td>\n",
       "      <td>0.000000</td>\n",
       "      <td>1756.000000</td>\n",
       "      <td>128.800000</td>\n",
       "      <td>137.290000</td>\n",
       "      <td>98.440000</td>\n",
       "      <td>0.000000</td>\n",
       "      <td>1208.000000</td>\n",
       "    </tr>\n",
       "    <tr>\n",
       "      <th>max</th>\n",
       "      <td>27731.088000</td>\n",
       "      <td>35145.834000</td>\n",
       "      <td>33543.624000</td>\n",
       "      <td>7376.710000</td>\n",
       "      <td>8157.780000</td>\n",
       "      <td>10752.560000</td>\n",
       "      <td>8362.360000</td>\n",
       "      <td>9667.130000</td>\n",
       "      <td>14007.340000</td>\n",
       "      <td>2613.310000</td>\n",
       "      <td>...</td>\n",
       "      <td>16.000000</td>\n",
       "      <td>29.000000</td>\n",
       "      <td>35.000000</td>\n",
       "      <td>41.000000</td>\n",
       "      <td>4321.000000</td>\n",
       "      <td>12916.220000</td>\n",
       "      <td>9165.600000</td>\n",
       "      <td>11166.210000</td>\n",
       "      <td>2618.570000</td>\n",
       "      <td>61236.000000</td>\n",
       "    </tr>\n",
       "  </tbody>\n",
       "</table>\n",
       "<p>8 rows × 135 columns</p>\n",
       "</div>"
      ],
      "text/plain": [
       "             arpu_6        arpu_7        arpu_8   onnet_mou_6   onnet_mou_7  \\\n",
       "count  30001.000000  30001.000000  30001.000000  29456.000000  29464.000000   \n",
       "mean     558.490824    560.782203    508.597957    265.618262    272.700470   \n",
       "std      460.640461    479.776947    501.961981    462.493645    482.972367   \n",
       "min    -2258.709000  -2014.045000   -945.808000      0.000000      0.000000   \n",
       "25%      309.865000    309.826000    231.473000     19.240000     18.155000   \n",
       "50%      481.694000    480.943000    427.585000     88.060000     86.885000   \n",
       "75%      699.943000    698.315000    661.491000    297.415000    298.087500   \n",
       "max    27731.088000  35145.834000  33543.624000   7376.710000   8157.780000   \n",
       "\n",
       "        onnet_mou_8  offnet_mou_6  offnet_mou_7  offnet_mou_8  roam_ic_mou_6  \\\n",
       "count  28827.000000  29456.000000  29464.000000  28827.000000   29456.000000   \n",
       "mean     243.646938    380.608111    384.994337    348.723294      16.408431   \n",
       "std      465.200856    484.257474    500.807874    486.918550      76.973057   \n",
       "min        0.000000      0.000000      0.000000      0.000000       0.000000   \n",
       "25%       14.255000     78.575000     76.040000     58.670000       0.000000   \n",
       "50%       72.930000    229.635000    227.120000    197.590000       0.000000   \n",
       "75%      255.025000    494.780000    500.365000    455.385000       0.000000   \n",
       "max    10752.560000   8362.360000   9667.130000  14007.340000    2613.310000   \n",
       "\n",
       "       ...  monthly_3g_8   sachet_3g_6   sachet_3g_7   sachet_3g_8  \\\n",
       "count  ...  30001.000000  30001.000000  30001.000000  30001.000000   \n",
       "mean   ...      0.211026      0.209393      0.227492      0.202393   \n",
       "std    ...      0.617549      0.985674      1.089929      1.100107   \n",
       "min    ...      0.000000      0.000000      0.000000      0.000000   \n",
       "25%    ...      0.000000      0.000000      0.000000      0.000000   \n",
       "50%    ...      0.000000      0.000000      0.000000      0.000000   \n",
       "75%    ...      0.000000      0.000000      0.000000      0.000000   \n",
       "max    ...     16.000000     29.000000     35.000000     41.000000   \n",
       "\n",
       "                aon    aug_vbc_3g    jul_vbc_3g    jun_vbc_3g    sep_vbc_3g  \\\n",
       "count  30001.000000  30001.000000  30001.000000  30001.000000  30001.000000   \n",
       "mean    1209.368754    169.138860    178.872765    158.523962      8.029788   \n",
       "std      957.677989    420.974354    443.544138    416.734860     52.378232   \n",
       "min      180.000000      0.000000      0.000000      0.000000      0.000000   \n",
       "25%      460.000000      0.000000      0.000000      0.000000      0.000000   \n",
       "50%      846.000000      0.000000      0.000000      0.000000      0.000000   \n",
       "75%     1756.000000    128.800000    137.290000     98.440000      0.000000   \n",
       "max     4321.000000  12916.220000   9165.600000  11166.210000   2618.570000   \n",
       "\n",
       "       av_rech_amt_67  \n",
       "count    30001.000000  \n",
       "mean      1152.620628  \n",
       "std       1358.713982  \n",
       "min        478.000000  \n",
       "25%        603.000000  \n",
       "50%        800.000000  \n",
       "75%       1208.000000  \n",
       "max      61236.000000  \n",
       "\n",
       "[8 rows x 135 columns]"
      ]
     },
     "execution_count": 33,
     "metadata": {},
     "output_type": "execute_result"
    }
   ],
   "source": [
    "telcom_hv_df[num_var1].describe(include ='all')"
   ]
  },
  {
   "cell_type": "markdown",
   "metadata": {},
   "source": [
    "As for most of the columns the min value is 0 which means the entry is zero hence imputing with zero"
   ]
  },
  {
   "cell_type": "code",
   "execution_count": 34,
   "metadata": {},
   "outputs": [],
   "source": [
    "telcom_hv_df[num_var1] = telcom_hv_df[num_var1].apply(lambda x: x.fillna(0))"
   ]
  },
  {
   "cell_type": "markdown",
   "metadata": {},
   "source": [
    "Dropping Date Column as after combining month 6&7 to form Good Phase Date columns won't add up "
   ]
  },
  {
   "cell_type": "code",
   "execution_count": 35,
   "metadata": {},
   "outputs": [],
   "source": [
    "telcom_hv_df.drop(date_var, axis=1, inplace= True)"
   ]
  },
  {
   "cell_type": "code",
   "execution_count": 36,
   "metadata": {},
   "outputs": [
    {
     "name": "stdout",
     "output_type": "stream",
     "text": [
      "No NULL Values\n"
     ]
    }
   ],
   "source": [
    "flag=0\n",
    "for col in telcom_hv_df.columns:\n",
    "    if telcom_hv_df[''+col+''].isnull().mean() > 0 :\n",
    "        print('null values of {0} is---> {1} '.format(col,telcom_hv_df[''+col+''].isnull().mean()*100))\n",
    "        flag = 1\n",
    "if flag!=1:\n",
    "    print('No NULL Values')"
   ]
  },
  {
   "cell_type": "code",
   "execution_count": 37,
   "metadata": {},
   "outputs": [
    {
     "name": "stdout",
     "output_type": "stream",
     "text": [
      "Proceeding with 30001 rows and 136 columns\n"
     ]
    }
   ],
   "source": [
    "print('Proceeding with {0} rows and {1} columns'.format(telcom_hv_df.shape[0], telcom_hv_df.shape[1]))"
   ]
  },
  {
   "cell_type": "markdown",
   "metadata": {},
   "source": [
    "The months are divided into 3 :\n",
    "- Good Phase( 6 & 7 )\n",
    "- Action Phase( 8 )\n",
    "- Churn Phase( 9 )\n",
    "\n",
    "Let's average 6 & 7 month to get good phase but before let's drop few least required columns"
   ]
  },
  {
   "cell_type": "code",
   "execution_count": 38,
   "metadata": {},
   "outputs": [
    {
     "data": {
      "text/plain": [
       "['roam_og_mou_6',\n",
       " 'roam_og_mou_7',\n",
       " 'roam_og_mou_8',\n",
       " 'loc_og_mou_6',\n",
       " 'loc_og_mou_7',\n",
       " 'loc_og_mou_8',\n",
       " 'std_og_mou_6',\n",
       " 'std_og_mou_7',\n",
       " 'std_og_mou_8',\n",
       " 'isd_og_mou_6',\n",
       " 'isd_og_mou_7',\n",
       " 'isd_og_mou_8',\n",
       " 'spl_og_mou_6',\n",
       " 'spl_og_mou_7',\n",
       " 'spl_og_mou_8',\n",
       " 'total_og_mou_6',\n",
       " 'total_og_mou_7',\n",
       " 'total_og_mou_8']"
      ]
     },
     "execution_count": 38,
     "metadata": {},
     "output_type": "execute_result"
    }
   ],
   "source": [
    "og_mou_lst = [ col for col in telcom_hv_df.columns if '_og_mou' in col]\n",
    "\n",
    "og_mou_lst"
   ]
  },
  {
   "cell_type": "code",
   "execution_count": 39,
   "metadata": {},
   "outputs": [
    {
     "data": {
      "image/png": "[encoded data removed]",
      "text/plain": [
       "<Figure size 1800x1440 with 2 Axes>"
      ]
     },
     "metadata": {
      "needs_background": "light"
     },
     "output_type": "display_data"
    }
   ],
   "source": [
    "corr = telcom_hv_df[og_mou_lst].corr()\n",
    "plt.figure(figsize=(25,20))\n",
    "sb.heatmap(corr, annot = True)\n",
    "plt.show()"
   ]
  },
  {
   "cell_type": "markdown",
   "metadata": {},
   "source": [
    "From the above heatmap we can see that few variables are correlated with others\n",
    "these are `std_og_mou` ,`loc_og_mou`, `total_og_mou`"
   ]
  },
  {
   "cell_type": "code",
   "execution_count": 40,
   "metadata": {},
   "outputs": [],
   "source": [
    "# Getting above variables \n",
    "total_og_list = list(telcom_hv_df.columns[telcom_hv_df.columns.str.contains('total_og_mou|std_og_mou|loc_og_mou',regex=True)])\n",
    "\n",
    "#Dropping\n",
    "telcom_hv_df.drop(total_og_list, axis = 1, inplace = True)"
   ]
  },
  {
   "cell_type": "code",
   "execution_count": 41,
   "metadata": {},
   "outputs": [
    {
     "data": {
      "text/plain": [
       "(30001, 127)"
      ]
     },
     "execution_count": 41,
     "metadata": {},
     "output_type": "execute_result"
    }
   ],
   "source": [
    "telcom_hv_df.shape"
   ]
  },
  {
   "cell_type": "code",
   "execution_count": 42,
   "metadata": {},
   "outputs": [],
   "source": [
    "# Dropping Earlier av_rech_amt_67 column as we are creating new anyway\n",
    "telcom_hv_df.drop(['av_rech_amt_67'], axis =1, inplace=True)"
   ]
  },
  {
   "cell_type": "code",
   "execution_count": 43,
   "metadata": {},
   "outputs": [],
   "source": [
    "col_list = telcom_hv_df.filter(regex='_6|_7').columns.str[:-2]\n",
    "for col in (col_list.unique()):\n",
    "    avg_col_name = col+\"_av67\"\n",
    "    col_6 = col+\"_6\"\n",
    "    col_7 = col+\"_7\"\n",
    "    telcom_hv_df[avg_col_name] = (telcom_hv_df[col_6]  + telcom_hv_df[col_7])/ 2"
   ]
  },
  {
   "cell_type": "code",
   "execution_count": 44,
   "metadata": {},
   "outputs": [
    {
     "data": {
      "text/plain": [
       "(30001, 86)"
      ]
     },
     "execution_count": 44,
     "metadata": {},
     "output_type": "execute_result"
    }
   ],
   "source": [
    "# Dropping earlier 6 & 7 months columns\n",
    "lst_6_7 = telcom_hv_df.filter(regex = '_6|_7')\n",
    "telcom_hv_df.drop(lst_6_7, axis =1, inplace= True )\n",
    "telcom_hv_df.shape"
   ]
  },
  {
   "cell_type": "code",
   "execution_count": 45,
   "metadata": {},
   "outputs": [
    {
     "name": "stdout",
     "output_type": "stream",
     "text": [
      "<class 'pandas.core.frame.DataFrame'>\n",
      "Int64Index: 30001 entries, 0 to 99997\n",
      "Data columns (total 86 columns):\n",
      " #   Column                 Non-Null Count  Dtype   \n",
      "---  ------                 --------------  -----   \n",
      " 0   arpu_8                 30001 non-null  float64 \n",
      " 1   onnet_mou_8            30001 non-null  float64 \n",
      " 2   offnet_mou_8           30001 non-null  float64 \n",
      " 3   roam_ic_mou_8          30001 non-null  float64 \n",
      " 4   roam_og_mou_8          30001 non-null  float64 \n",
      " 5   loc_og_t2t_mou_8       30001 non-null  float64 \n",
      " 6   loc_og_t2m_mou_8       30001 non-null  float64 \n",
      " 7   loc_og_t2f_mou_8       30001 non-null  float64 \n",
      " 8   loc_og_t2c_mou_8       30001 non-null  float64 \n",
      " 9   std_og_t2t_mou_8       30001 non-null  float64 \n",
      " 10  std_og_t2m_mou_8       30001 non-null  float64 \n",
      " 11  std_og_t2f_mou_8       30001 non-null  float64 \n",
      " 12  isd_og_mou_8           30001 non-null  float64 \n",
      " 13  spl_og_mou_8           30001 non-null  float64 \n",
      " 14  og_others_8            30001 non-null  float64 \n",
      " 15  loc_ic_t2t_mou_8       30001 non-null  float64 \n",
      " 16  loc_ic_t2m_mou_8       30001 non-null  float64 \n",
      " 17  loc_ic_t2f_mou_8       30001 non-null  float64 \n",
      " 18  loc_ic_mou_8           30001 non-null  float64 \n",
      " 19  std_ic_t2t_mou_8       30001 non-null  float64 \n",
      " 20  std_ic_t2m_mou_8       30001 non-null  float64 \n",
      " 21  std_ic_t2f_mou_8       30001 non-null  float64 \n",
      " 22  std_ic_mou_8           30001 non-null  float64 \n",
      " 23  total_ic_mou_8         30001 non-null  float64 \n",
      " 24  spl_ic_mou_8           30001 non-null  float64 \n",
      " 25  isd_ic_mou_8           30001 non-null  float64 \n",
      " 26  ic_others_8            30001 non-null  float64 \n",
      " 27  total_rech_num_8       30001 non-null  int64   \n",
      " 28  total_rech_amt_8       30001 non-null  int64   \n",
      " 29  max_rech_amt_8         30001 non-null  int64   \n",
      " 30  last_day_rch_amt_8     30001 non-null  int64   \n",
      " 31  total_rech_data_8      30001 non-null  float64 \n",
      " 32  max_rech_data_8        30001 non-null  float64 \n",
      " 33  av_rech_amt_data_8     30001 non-null  float64 \n",
      " 34  vol_2g_mb_8            30001 non-null  float64 \n",
      " 35  vol_3g_mb_8            30001 non-null  float64 \n",
      " 36  monthly_2g_8           30001 non-null  int64   \n",
      " 37  sachet_2g_8            30001 non-null  int64   \n",
      " 38  monthly_3g_8           30001 non-null  int64   \n",
      " 39  sachet_3g_8            30001 non-null  int64   \n",
      " 40  aon                    30001 non-null  int64   \n",
      " 41  aug_vbc_3g             30001 non-null  float64 \n",
      " 42  jul_vbc_3g             30001 non-null  float64 \n",
      " 43  jun_vbc_3g             30001 non-null  float64 \n",
      " 44  sep_vbc_3g             30001 non-null  float64 \n",
      " 45  Churn                  30001 non-null  category\n",
      " 46  arpu_av67              30001 non-null  float64 \n",
      " 47  onnet_mou_av67         30001 non-null  float64 \n",
      " 48  offnet_mou_av67        30001 non-null  float64 \n",
      " 49  roam_ic_mou_av67       30001 non-null  float64 \n",
      " 50  roam_og_mou_av67       30001 non-null  float64 \n",
      " 51  loc_og_t2t_mou_av67    30001 non-null  float64 \n",
      " 52  loc_og_t2m_mou_av67    30001 non-null  float64 \n",
      " 53  loc_og_t2f_mou_av67    30001 non-null  float64 \n",
      " 54  loc_og_t2c_mou_av67    30001 non-null  float64 \n",
      " 55  std_og_t2t_mou_av67    30001 non-null  float64 \n",
      " 56  std_og_t2m_mou_av67    30001 non-null  float64 \n",
      " 57  std_og_t2f_mou_av67    30001 non-null  float64 \n",
      " 58  isd_og_mou_av67        30001 non-null  float64 \n",
      " 59  spl_og_mou_av67        30001 non-null  float64 \n",
      " 60  og_others_av67         30001 non-null  float64 \n",
      " 61  loc_ic_t2t_mou_av67    30001 non-null  float64 \n",
      " 62  loc_ic_t2m_mou_av67    30001 non-null  float64 \n",
      " 63  loc_ic_t2f_mou_av67    30001 non-null  float64 \n",
      " 64  loc_ic_mou_av67        30001 non-null  float64 \n",
      " 65  std_ic_t2t_mou_av67    30001 non-null  float64 \n",
      " 66  std_ic_t2m_mou_av67    30001 non-null  float64 \n",
      " 67  std_ic_t2f_mou_av67    30001 non-null  float64 \n",
      " 68  std_ic_mou_av67        30001 non-null  float64 \n",
      " 69  total_ic_mou_av67      30001 non-null  float64 \n",
      " 70  spl_ic_mou_av67        30001 non-null  float64 \n",
      " 71  isd_ic_mou_av67        30001 non-null  float64 \n",
      " 72  ic_others_av67         30001 non-null  float64 \n",
      " 73  total_rech_num_av67    30001 non-null  float64 \n",
      " 74  total_rech_amt_av67    30001 non-null  float64 \n",
      " 75  max_rech_amt_av67      30001 non-null  float64 \n",
      " 76  last_day_rch_amt_av67  30001 non-null  float64 \n",
      " 77  total_rech_data_av67   30001 non-null  float64 \n",
      " 78  max_rech_data_av67     30001 non-null  float64 \n",
      " 79  av_rech_amt_data_av67  30001 non-null  float64 \n",
      " 80  vol_2g_mb_av67         30001 non-null  float64 \n",
      " 81  vol_3g_mb_av67         30001 non-null  float64 \n",
      " 82  monthly_2g_av67        30001 non-null  float64 \n",
      " 83  sachet_2g_av67         30001 non-null  float64 \n",
      " 84  monthly_3g_av67        30001 non-null  float64 \n",
      " 85  sachet_3g_av67         30001 non-null  float64 \n",
      "dtypes: category(1), float64(76), int64(9)\n",
      "memory usage: 19.7 MB\n"
     ]
    }
   ],
   "source": [
    "telcom_hv_df.info()"
   ]
  },
  {
   "cell_type": "markdown",
   "metadata": {},
   "source": [
    "With merging June and July columns we managed to reduce the columns from 136 to 86 "
   ]
  },
  {
   "cell_type": "code",
   "execution_count": 46,
   "metadata": {},
   "outputs": [],
   "source": [
    "telcom = telcom_hv_df.copy()"
   ]
  },
  {
   "cell_type": "markdown",
   "metadata": {},
   "source": [
    "### EDA"
   ]
  },
  {
   "cell_type": "code",
   "execution_count": 47,
   "metadata": {},
   "outputs": [
    {
     "data": {
      "text/plain": [
       "<AxesSubplot:xlabel='av_rech_amt_data_av67', ylabel='Density'>"
      ]
     },
     "execution_count": 47,
     "metadata": {},
     "output_type": "execute_result"
    },
    {
     "data": {
      "image/png": "[encoded data removed]",
      "text/plain": [
       "<Figure size 432x288 with 1 Axes>"
      ]
     },
     "metadata": {
      "needs_background": "light"
     },
     "output_type": "display_data"
    }
   ],
   "source": [
    "# Recharge for good phase\n",
    "sb.distplot(telcom.av_rech_amt_data_av67)"
   ]
  },
  {
   "cell_type": "code",
   "execution_count": 48,
   "metadata": {},
   "outputs": [
    {
     "data": {
      "image/png": "[encoded data removed]",
      "text/plain": [
       "<Figure size 720x216 with 2 Axes>"
      ]
     },
     "metadata": {
      "needs_background": "light"
     },
     "output_type": "display_data"
    }
   ],
   "source": [
    "plt.figure(figsize=(10, 3))  \n",
    "plt.subplot(1,2,1)\n",
    "plt.title(\"Good Phase\")\n",
    "plt.suptitle(\"Avg Rech Amt\")\n",
    "sb.boxplot(data=telcom, y=telcom.av_rech_amt_data_av67,x=\"Churn\",hue=\"Churn\",\n",
    "                showfliers=False,palette=(\"plasma\")) \n",
    "plt.subplot(1,2,2)\n",
    "plt.title(\"Action Phase\")\n",
    "sb.boxplot(data=telcom, y=telcom.av_rech_amt_data_8,x=\"Churn\",hue=\"Churn\",\n",
    "                showfliers=False,palette=(\"plasma\"))\n",
    "plt.show()"
   ]
  },
  {
   "cell_type": "code",
   "execution_count": 49,
   "metadata": {},
   "outputs": [
    {
     "data": {
      "image/png": "[encoded data removed]",
      "text/plain": [
       "<Figure size 720x216 with 2 Axes>"
      ]
     },
     "metadata": {
      "needs_background": "light"
     },
     "output_type": "display_data"
    }
   ],
   "source": [
    "plt.figure(figsize=(10, 3))  \n",
    "plt.subplot(1,2,1)\n",
    "plt.title(\"Good Phase\")\n",
    "plt.suptitle(\"Total Rech Amt\")\n",
    "sb.boxplot(data=telcom, y=telcom.total_rech_amt_av67,x=\"Churn\",hue=\"Churn\",\n",
    "                showfliers=False,palette=(\"plasma\"))\n",
    "plt.subplot(1,2,2)\n",
    "plt.title(\"Action Phase\")\n",
    "sb.boxplot(data=telcom, y=telcom.total_rech_amt_8,x=\"Churn\",hue=\"Churn\",\n",
    "                showfliers=False,palette=(\"plasma\"))\n",
    "plt.show()"
   ]
  },
  {
   "cell_type": "markdown",
   "metadata": {},
   "source": [
    "Recharge amount dropped significantly "
   ]
  },
  {
   "cell_type": "code",
   "execution_count": 50,
   "metadata": {},
   "outputs": [
    {
     "data": {
      "image/png": "[encoded data removed]",
      "text/plain": [
       "<Figure size 720x216 with 2 Axes>"
      ]
     },
     "metadata": {
      "needs_background": "light"
     },
     "output_type": "display_data"
    }
   ],
   "source": [
    "plt.figure(figsize=(10, 3))  \n",
    "plt.subplot(1,2,1)\n",
    "plt.title(\"Good Phase\")\n",
    "plt.suptitle(\"Incoming\")\n",
    "sb.boxplot(data=telcom, y=telcom.isd_ic_mou_av67,x=\"Churn\",hue=\"Churn\",\n",
    "                showfliers=False,palette=(\"plasma\"))\n",
    "plt.subplot(1,2,2)\n",
    "plt.title(\"Action Phase\")\n",
    "sb.boxplot(data=telcom, y=telcom.isd_ic_mou_8,x=\"Churn\",hue=\"Churn\",\n",
    "                showfliers=False,palette=(\"plasma\"))\n",
    "plt.show()"
   ]
  },
  {
   "cell_type": "code",
   "execution_count": 51,
   "metadata": {},
   "outputs": [
    {
     "data": {
      "image/png": "[encoded data removed]",
      "text/plain": [
       "<Figure size 720x216 with 2 Axes>"
      ]
     },
     "metadata": {
      "needs_background": "light"
     },
     "output_type": "display_data"
    }
   ],
   "source": [
    "plt.figure(figsize=(10, 3))  \n",
    "plt.subplot(1,2,1)\n",
    "plt.title(\"Good Phase\")\n",
    "plt.suptitle(\"Outgoing\")\n",
    "sb.boxplot(data=telcom, y=telcom.isd_og_mou_av67,x=\"Churn\",hue=\"Churn\",\n",
    "                showfliers=False,palette=(\"plasma\"))\n",
    "plt.subplot(1,2,2)\n",
    "plt.title(\"Action Phase\")\n",
    "sb.boxplot(data=telcom, y=telcom.isd_og_mou_8,x=\"Churn\",hue=\"Churn\",\n",
    "                showfliers=False,palette=(\"plasma\"))\n",
    "plt.show()"
   ]
  },
  {
   "cell_type": "code",
   "execution_count": 52,
   "metadata": {},
   "outputs": [
    {
     "data": {
      "image/png": "[encoded data removed]",
      "text/plain": [
       "<Figure size 720x216 with 2 Axes>"
      ]
     },
     "metadata": {
      "needs_background": "light"
     },
     "output_type": "display_data"
    }
   ],
   "source": [
    "plt.figure(figsize=(10, 3))  \n",
    "plt.subplot(1,2,1)\n",
    "plt.title(\"Good Phase\")\n",
    "plt.suptitle(\"Revenue\")\n",
    "sb.boxplot(data=telcom, y=telcom.arpu_av67,x=\"Churn\",hue=\"Churn\",\n",
    "                showfliers=False,palette=(\"plasma\"))\n",
    "plt.subplot(1,2,2)\n",
    "plt.title(\"Action Phase\")\n",
    "sb.boxplot(data=telcom, y=telcom.arpu_8,x=\"Churn\",hue=\"Churn\",\n",
    "                showfliers=False,palette=(\"plasma\"))\n",
    "plt.show()"
   ]
  },
  {
   "cell_type": "markdown",
   "metadata": {},
   "source": [
    "We see huge drop in the average revenue per user from good to action phase "
   ]
  },
  {
   "cell_type": "code",
   "execution_count": 53,
   "metadata": {},
   "outputs": [
    {
     "data": {
      "image/png": "[encoded data removed]",
      "text/plain": [
       "<Figure size 720x216 with 2 Axes>"
      ]
     },
     "metadata": {
      "needs_background": "light"
     },
     "output_type": "display_data"
    }
   ],
   "source": [
    "plt.figure(figsize=(10, 3))  \n",
    "plt.subplot(1,2,1)\n",
    "plt.title(\"Good Phase\")\n",
    "plt.suptitle(\"Roaming Incoming\")\n",
    "sb.boxplot(data=telcom, y=telcom.roam_ic_mou_av67,x=\"Churn\",hue=\"Churn\",\n",
    "                showfliers=False,palette=(\"plasma\"))\n",
    "plt.subplot(1,2,2)\n",
    "plt.title(\"Action Phase\")\n",
    "sb.boxplot(data=telcom, y=telcom.roam_ic_mou_8,x=\"Churn\",hue=\"Churn\",\n",
    "                showfliers=False,palette=(\"plasma\"))\n",
    "plt.show()"
   ]
  },
  {
   "cell_type": "code",
   "execution_count": 54,
   "metadata": {
    "scrolled": true
   },
   "outputs": [
    {
     "data": {
      "image/png": "[encoded data removed]",
      "text/plain": [
       "<Figure size 720x216 with 2 Axes>"
      ]
     },
     "metadata": {
      "needs_background": "light"
     },
     "output_type": "display_data"
    }
   ],
   "source": [
    "plt.figure(figsize=(10, 3))  \n",
    "plt.subplot(1,2,1)\n",
    "plt.title(\"Good Phase\")\n",
    "plt.suptitle(\"Roaming Outgoing\")\n",
    "sb.boxplot(data=telcom, y=telcom.roam_og_mou_av67,x=\"Churn\",hue=\"Churn\",\n",
    "                showfliers=False,palette=(\"plasma\"))\n",
    "plt.subplot(1,2,2)\n",
    "plt.title(\"Action Phase\")\n",
    "sb.boxplot(data=telcom, y=telcom.roam_og_mou_8,x=\"Churn\",hue=\"Churn\",\n",
    "                showfliers=False,palette=(\"plasma\"))\n",
    "plt.show()"
   ]
  },
  {
   "cell_type": "code",
   "execution_count": 55,
   "metadata": {},
   "outputs": [
    {
     "data": {
      "image/png": "[encoded data removed]",
      "text/plain": [
       "<Figure size 720x216 with 2 Axes>"
      ]
     },
     "metadata": {
      "needs_background": "light"
     },
     "output_type": "display_data"
    }
   ],
   "source": [
    "plt.figure(figsize=(10, 3))  \n",
    "plt.subplot(1,2,1)\n",
    "plt.title(\"Good Phase\")\n",
    "plt.suptitle(\"Local Outgoing - Other mobile\")\n",
    "sb.boxplot(data=telcom, y=telcom.loc_og_t2m_mou_av67,x=\"Churn\",hue=\"Churn\",\n",
    "                showfliers=False,palette=(\"plasma\"))\n",
    "plt.subplot(1,2,2)\n",
    "plt.title(\"Action Phase\")\n",
    "sb.boxplot(data=telcom, y=telcom.loc_og_t2m_mou_8,x=\"Churn\",hue=\"Churn\",\n",
    "                showfliers=False,palette=(\"plasma\"))\n",
    "plt.show()"
   ]
  },
  {
   "cell_type": "markdown",
   "metadata": {},
   "source": [
    "We see there's a huge drop in the Action Phase when Outgoing call is made to other operator mobile"
   ]
  },
  {
   "cell_type": "code",
   "execution_count": 56,
   "metadata": {
    "scrolled": true
   },
   "outputs": [
    {
     "data": {
      "image/png": "[encoded data removed]",
      "text/plain": [
       "<Figure size 720x216 with 2 Axes>"
      ]
     },
     "metadata": {
      "needs_background": "light"
     },
     "output_type": "display_data"
    }
   ],
   "source": [
    "plt.figure(figsize=(10, 3))  \n",
    "plt.subplot(1,2,1)\n",
    "plt.title(\"Good Phase\")\n",
    "plt.suptitle(\"Local Outgoing- call center\")\n",
    "sb.boxplot(data=telcom, y=telcom.loc_og_t2c_mou_av67,x=\"Churn\",hue=\"Churn\",\n",
    "                showfliers=False,palette=(\"plasma\"))\n",
    "plt.subplot(1,2,2)\n",
    "plt.title(\"Action Phase\")\n",
    "sb.boxplot(data=telcom, y=telcom.loc_og_t2c_mou_8,x=\"Churn\",hue=\"Churn\",\n",
    "                showfliers=False,palette=(\"plasma\"))\n",
    "plt.show()"
   ]
  },
  {
   "cell_type": "markdown",
   "metadata": {},
   "source": [
    "We see there's a huge drop in the Action Phase when call made to call center in Good Phase"
   ]
  },
  {
   "cell_type": "code",
   "execution_count": 57,
   "metadata": {
    "scrolled": true
   },
   "outputs": [
    {
     "data": {
      "image/png": "[encoded data removed]",
      "text/plain": [
       "<Figure size 720x216 with 2 Axes>"
      ]
     },
     "metadata": {
      "needs_background": "light"
     },
     "output_type": "display_data"
    }
   ],
   "source": [
    "plt.figure(figsize=(10, 3))  \n",
    "plt.subplot(1,2,1)\n",
    "plt.title(\"Good Phase\")\n",
    "plt.suptitle(\"3G \")\n",
    "sb.boxplot(data=telcom, y=telcom.vol_3g_mb_av67,x=\"Churn\",hue=\"Churn\",\n",
    "                showfliers=False,palette=(\"plasma\"))\n",
    "plt.subplot(1,2,2)\n",
    "plt.title(\"Action Phase\")\n",
    "sb.boxplot(data=telcom, y=telcom.vol_3g_mb_8,x=\"Churn\",hue=\"Churn\",\n",
    "                showfliers=False,palette=(\"plasma\"))\n",
    "plt.show()"
   ]
  },
  {
   "cell_type": "markdown",
   "metadata": {},
   "source": [
    "We see there's a huge drop in the Action Phase for 3g"
   ]
  },
  {
   "cell_type": "code",
   "execution_count": 58,
   "metadata": {},
   "outputs": [
    {
     "data": {
      "image/png": "[encoded data removed]",
      "text/plain": [
       "<Figure size 720x216 with 2 Axes>"
      ]
     },
     "metadata": {
      "needs_background": "light"
     },
     "output_type": "display_data"
    }
   ],
   "source": [
    "plt.figure(figsize=(10, 3))  \n",
    "plt.subplot(1,2,1)\n",
    "plt.title(\"Good Phase\")\n",
    "plt.suptitle(\"Last Day Amt Rec\")\n",
    "sb.boxplot(data=telcom, y=telcom.last_day_rch_amt_av67,x=\"Churn\",hue=\"Churn\",\n",
    "                showfliers=False,palette=(\"plasma\"))\n",
    "plt.subplot(1,2,2)\n",
    "plt.title(\"Action Phase\")\n",
    "sb.boxplot(data=telcom, y=telcom.last_day_rch_amt_8,x=\"Churn\",hue=\"Churn\",\n",
    "                showfliers=False,palette=(\"plasma\"))\n",
    "plt.show()"
   ]
  },
  {
   "cell_type": "markdown",
   "metadata": {},
   "source": [
    "We see there's huge drop in the Action Phase"
   ]
  },
  {
   "cell_type": "markdown",
   "metadata": {},
   "source": [
    "### Modelling"
   ]
  },
  {
   "cell_type": "code",
   "execution_count": 59,
   "metadata": {},
   "outputs": [],
   "source": [
    "# Splitting dependent and indeoendent variables into X and y\n",
    "y = telcom['Churn']\n",
    "X = telcom.drop(['Churn'], axis=1)"
   ]
  },
  {
   "cell_type": "code",
   "execution_count": 60,
   "metadata": {},
   "outputs": [],
   "source": [
    "# Importing required libraries \n",
    "from imblearn.over_sampling import SMOTE\n",
    "from sklearn.decomposition import PCA\n",
    "from sklearn.preprocessing import StandardScaler\n",
    "from sklearn.decomposition import IncrementalPCA\n",
    "from sklearn.model_selection import train_test_split"
   ]
  },
  {
   "cell_type": "code",
   "execution_count": 61,
   "metadata": {},
   "outputs": [],
   "source": [
    "# Importing Metrics\n",
    "from sklearn.metrics import recall_score, precision_score, roc_auc_score, f1_score, accuracy_score, confusion_matrix"
   ]
  },
  {
   "cell_type": "markdown",
   "metadata": {},
   "source": [
    "We have imported SMOTE , this helps us to deal with class imbalance as we saw 9:91 churn ratio"
   ]
  },
  {
   "cell_type": "markdown",
   "metadata": {},
   "source": [
    "Defining some repetitive definitions to be used ahead"
   ]
  },
  {
   "cell_type": "code",
   "execution_count": 62,
   "metadata": {},
   "outputs": [],
   "source": [
    "def split_df(df):        # To Split the dataframe into X and y \n",
    "    y = df['Churn']\n",
    "    X = df.drop(['Churn'], axis=1)\n",
    "    print('df splitted..')\n",
    "    return X,y\n",
    "\n",
    "def scale_df(X):         # To scale the X\n",
    "    # Instantiating StandardScaler\n",
    "    scaler = StandardScaler()\n",
    "    X_scaled = scaler.fit_transform(X)\n",
    "    X_df = pd.DataFrame(X_scaled, columns= X.columns)\n",
    "    print('df scaled..')\n",
    "    return X_df\n",
    "\n",
    "def resampling_df(X, y, f_num):  # To apply SMOTE on X_train and give PCA and split into train and test\n",
    "    X_train, X_test, y_train, y_test = train_test_split(X,y,train_size=0.7,test_size=0.3,random_state=100)\n",
    "    print('train df before : ', X_train.shape)\n",
    "    print('Applying SMOTE...')\n",
    "    \n",
    "    # Initantiating SMOTE\n",
    "    smote = SMOTE()\n",
    "    X_tra,y_tra = smote.fit_resample(X_train, y_train)\n",
    "    print('train df after SMOTE : ',X_tra.shape)\n",
    "    \n",
    "    # Instantiating IncrementalPCA\n",
    "    pca = IncrementalPCA(n_components = f_num)\n",
    "    X_train_pca = pca.fit_transform(X_tra)\n",
    "    X_test_pca = pca.transform(X_test)\n",
    "    print('df after PCA : ',X_train_pca.shape)\n",
    "    return X_train_pca,X_test_pca,y_tra,y_test\n"
   ]
  },
  {
   "cell_type": "code",
   "execution_count": 63,
   "metadata": {},
   "outputs": [
    {
     "name": "stdout",
     "output_type": "stream",
     "text": [
      "df scaled..\n"
     ]
    },
    {
     "data": {
      "text/html": [
       "<div>\n",
       "<style scoped>\n",
       "    .dataframe tbody tr th:only-of-type {\n",
       "        vertical-align: middle;\n",
       "    }\n",
       "\n",
       "    .dataframe tbody tr th {\n",
       "        vertical-align: top;\n",
       "    }\n",
       "\n",
       "    .dataframe thead th {\n",
       "        text-align: right;\n",
       "    }\n",
       "</style>\n",
       "<table border=\"1\" class=\"dataframe\">\n",
       "  <thead>\n",
       "    <tr style=\"text-align: right;\">\n",
       "      <th></th>\n",
       "      <th>arpu_8</th>\n",
       "      <th>onnet_mou_8</th>\n",
       "      <th>offnet_mou_8</th>\n",
       "      <th>roam_ic_mou_8</th>\n",
       "      <th>roam_og_mou_8</th>\n",
       "      <th>loc_og_t2t_mou_8</th>\n",
       "      <th>loc_og_t2m_mou_8</th>\n",
       "      <th>loc_og_t2f_mou_8</th>\n",
       "      <th>loc_og_t2c_mou_8</th>\n",
       "      <th>std_og_t2t_mou_8</th>\n",
       "      <th>...</th>\n",
       "      <th>last_day_rch_amt_av67</th>\n",
       "      <th>total_rech_data_av67</th>\n",
       "      <th>max_rech_data_av67</th>\n",
       "      <th>av_rech_amt_data_av67</th>\n",
       "      <th>vol_2g_mb_av67</th>\n",
       "      <th>vol_3g_mb_av67</th>\n",
       "      <th>monthly_2g_av67</th>\n",
       "      <th>sachet_2g_av67</th>\n",
       "      <th>monthly_3g_av67</th>\n",
       "      <th>sachet_3g_av67</th>\n",
       "    </tr>\n",
       "  </thead>\n",
       "  <tbody>\n",
       "    <tr>\n",
       "      <th>0</th>\n",
       "      <td>-0.587295</td>\n",
       "      <td>-0.510671</td>\n",
       "      <td>-0.695102</td>\n",
       "      <td>-0.168644</td>\n",
       "      <td>-0.189707</td>\n",
       "      <td>-0.343393</td>\n",
       "      <td>-0.649485</td>\n",
       "      <td>-0.301836</td>\n",
       "      <td>-0.236923</td>\n",
       "      <td>-0.373383</td>\n",
       "      <td>...</td>\n",
       "      <td>1.305790</td>\n",
       "      <td>-0.281094</td>\n",
       "      <td>1.676616</td>\n",
       "      <td>0.641666</td>\n",
       "      <td>-0.366917</td>\n",
       "      <td>-0.285798</td>\n",
       "      <td>-0.461314</td>\n",
       "      <td>-0.47212</td>\n",
       "      <td>1.359752</td>\n",
       "      <td>-0.230437</td>\n",
       "    </tr>\n",
       "    <tr>\n",
       "      <th>1</th>\n",
       "      <td>5.305036</td>\n",
       "      <td>-0.396611</td>\n",
       "      <td>-0.019017</td>\n",
       "      <td>0.258208</td>\n",
       "      <td>0.173748</td>\n",
       "      <td>-0.166236</td>\n",
       "      <td>0.045037</td>\n",
       "      <td>2.427634</td>\n",
       "      <td>-0.236923</td>\n",
       "      <td>-0.343173</td>\n",
       "      <td>...</td>\n",
       "      <td>-0.868008</td>\n",
       "      <td>-0.650586</td>\n",
       "      <td>-0.765067</td>\n",
       "      <td>-0.742965</td>\n",
       "      <td>-0.419329</td>\n",
       "      <td>-0.425285</td>\n",
       "      <td>-0.461314</td>\n",
       "      <td>-0.47212</td>\n",
       "      <td>-0.391135</td>\n",
       "      <td>-0.230437</td>\n",
       "    </tr>\n",
       "  </tbody>\n",
       "</table>\n",
       "<p>2 rows × 85 columns</p>\n",
       "</div>"
      ],
      "text/plain": [
       "     arpu_8  onnet_mou_8  offnet_mou_8  roam_ic_mou_8  roam_og_mou_8  \\\n",
       "0 -0.587295    -0.510671     -0.695102      -0.168644      -0.189707   \n",
       "1  5.305036    -0.396611     -0.019017       0.258208       0.173748   \n",
       "\n",
       "   loc_og_t2t_mou_8  loc_og_t2m_mou_8  loc_og_t2f_mou_8  loc_og_t2c_mou_8  \\\n",
       "0         -0.343393         -0.649485         -0.301836         -0.236923   \n",
       "1         -0.166236          0.045037          2.427634         -0.236923   \n",
       "\n",
       "   std_og_t2t_mou_8  ...  last_day_rch_amt_av67  total_rech_data_av67  \\\n",
       "0         -0.373383  ...               1.305790             -0.281094   \n",
       "1         -0.343173  ...              -0.868008             -0.650586   \n",
       "\n",
       "   max_rech_data_av67  av_rech_amt_data_av67  vol_2g_mb_av67  vol_3g_mb_av67  \\\n",
       "0            1.676616               0.641666       -0.366917       -0.285798   \n",
       "1           -0.765067              -0.742965       -0.419329       -0.425285   \n",
       "\n",
       "   monthly_2g_av67  sachet_2g_av67  monthly_3g_av67  sachet_3g_av67  \n",
       "0        -0.461314        -0.47212         1.359752       -0.230437  \n",
       "1        -0.461314        -0.47212        -0.391135       -0.230437  \n",
       "\n",
       "[2 rows x 85 columns]"
      ]
     },
     "execution_count": 63,
     "metadata": {},
     "output_type": "execute_result"
    }
   ],
   "source": [
    "# Scaling X df\n",
    "X_scaled = scale_df(X)\n",
    "X_scaled.head(2)"
   ]
  },
  {
   "cell_type": "markdown",
   "metadata": {},
   "source": [
    "Plotting Scree Plot to get an idea of the required features that can explain variance"
   ]
  },
  {
   "cell_type": "code",
   "execution_count": 64,
   "metadata": {},
   "outputs": [],
   "source": [
    "sb.set(style=\"whitegrid\")"
   ]
  },
  {
   "cell_type": "code",
   "execution_count": 65,
   "metadata": {},
   "outputs": [
    {
     "data": {
      "image/png": "[encoded data removed]",
      "text/plain": [
       "<Figure size 648x504 with 1 Axes>"
      ]
     },
     "metadata": {},
     "output_type": "display_data"
    }
   ],
   "source": [
    "# Instantiating PCA\n",
    "pca_scree = PCA(random_state=87)\n",
    "pca_scree.fit(X_scaled)\n",
    "plt.figure(figsize=(9,7))\n",
    "plt.plot(np.cumsum(pca_scree.explained_variance_ratio_))\n",
    "plt.xlabel('Number Of Features')\n",
    "plt.ylabel('Cumulative Explained Variance')\n",
    "plt.show()"
   ]
  },
  {
   "cell_type": "markdown",
   "metadata": {},
   "source": [
    "~ 40 - 60 Features can explain 90-95% variance in the data set"
   ]
  },
  {
   "cell_type": "code",
   "execution_count": 66,
   "metadata": {},
   "outputs": [],
   "source": [
    "def model_data(df):      # To combine all the above methods and get a df to work on\n",
    "    X,y = split_df(df)\n",
    "    X_train,X_test,y_train,y_test = resampling_df(scale_df(X), y, 60)\n",
    "    return X_train,X_test,y_train,y_test\n",
    "\n",
    "score_summary = pd.DataFrame()\n",
    "\n",
    "\n",
    "\n",
    "def model_metrics(y_test, y_pred, model):\n",
    "    print(model+\" score summary\")\n",
    "    con_mat = confusion_matrix(y_test, y_pred)\n",
    "    print(con_mat)\n",
    "    print('accuracy = ', round(accuracy_score(y_test,y_pred),2))\n",
    "    print('recall = ',round(recall_score(y_test,y_pred),2))\n",
    "    print('precision =', round(precision_score(y_test,y_pred),2))\n",
    "    print('auc = ',round(roc_auc_score(y_test,y_pred),2))\n",
    "    print('f1 = ',round(f1_score(y_test,y_pred),2))\n",
    "    data = [[model,round(accuracy_score(y_test,y_pred),2),round(recall_score(y_test,y_pred),2),\n",
    "             round(precision_score(y_test,y_pred),2),round(roc_auc_score(y_test,y_pred),2),round(f1_score(y_test,y_pred),2)]] \n",
    "    df = pd.DataFrame(data, columns = ['Model', 'Accuracy','Precision','Recall','AUC','F1'])\n",
    "    global score_summary\n",
    "    score_summary = score_summary.append(df, ignore_index=True)"
   ]
  },
  {
   "cell_type": "markdown",
   "metadata": {},
   "source": [
    "#### Building models "
   ]
  },
  {
   "cell_type": "markdown",
   "metadata": {},
   "source": [
    "#### Logistic Regression Model"
   ]
  },
  {
   "cell_type": "code",
   "execution_count": 67,
   "metadata": {},
   "outputs": [],
   "source": [
    "# Importing Required libraries \n",
    "from sklearn.linear_model import LogisticRegression"
   ]
  },
  {
   "cell_type": "code",
   "execution_count": 68,
   "metadata": {},
   "outputs": [
    {
     "name": "stdout",
     "output_type": "stream",
     "text": [
      "df splitted..\n",
      "df scaled..\n",
      "train df before :  (21000, 85)\n",
      "Applying SMOTE...\n",
      "train df after SMOTE :  (38618, 85)\n",
      "df after PCA :  (38618, 60)\n"
     ]
    }
   ],
   "source": [
    "# Making a copy \n",
    "telcom_log = telcom_hv_df.copy()\n",
    "X_train,X_test,y_train,y_test = model_data(telcom_log)"
   ]
  },
  {
   "cell_type": "code",
   "execution_count": 69,
   "metadata": {},
   "outputs": [],
   "source": [
    "# Instantiating \n",
    "lr = LogisticRegression()\n",
    "# FItting\n",
    "lr_model = lr.fit(X_train, y_train)"
   ]
  },
  {
   "cell_type": "code",
   "execution_count": 70,
   "metadata": {
    "scrolled": true
   },
   "outputs": [
    {
     "name": "stdout",
     "output_type": "stream",
     "text": [
      "Logistic Regression score 0.90\n"
     ]
    }
   ],
   "source": [
    "# Predicting\n",
    "y_pred_prob = lr_model.predict_proba(X_test)[:,1]\n",
    "print('Logistic Regression score '+'{:2.2f}'.format(roc_auc_score(y_test,y_pred_prob)))"
   ]
  },
  {
   "cell_type": "code",
   "execution_count": 71,
   "metadata": {},
   "outputs": [
    {
     "name": "stdout",
     "output_type": "stream",
     "text": [
      "Logistic  score summary\n",
      "[[6865 1386]\n",
      " [ 125  625]]\n",
      "accuracy =  0.83\n",
      "recall =  0.83\n",
      "precision = 0.31\n",
      "auc =  0.83\n",
      "f1 =  0.45\n"
     ]
    }
   ],
   "source": [
    "model_metrics(y_test, lr_model.predict(X_test),'Logistic ')"
   ]
  },
  {
   "cell_type": "markdown",
   "metadata": {},
   "source": [
    "#### XGBoost"
   ]
  },
  {
   "cell_type": "code",
   "execution_count": 72,
   "metadata": {},
   "outputs": [],
   "source": [
    "# Importing required libraries \n",
    "import xgboost as xg\n",
    "from xgboost import XGBClassifier\n",
    "from xgboost import plot_importance"
   ]
  },
  {
   "cell_type": "code",
   "execution_count": 73,
   "metadata": {},
   "outputs": [
    {
     "name": "stdout",
     "output_type": "stream",
     "text": [
      "df splitted..\n",
      "df scaled..\n",
      "train df before :  (21000, 85)\n",
      "Applying SMOTE...\n",
      "train df after SMOTE :  (38618, 85)\n",
      "df after PCA :  (38618, 60)\n"
     ]
    }
   ],
   "source": [
    "# making a copy\n",
    "telcom_xgb = telcom_hv_df.copy()\n",
    "# getting data\n",
    "X_train, X_test, y_train, y_test = model_data(telcom_xgb)\n"
   ]
  },
  {
   "cell_type": "code",
   "execution_count": 74,
   "metadata": {},
   "outputs": [
    {
     "name": "stdout",
     "output_type": "stream",
     "text": [
      "[21:29:36] WARNING: C:/Users/Administrator/workspace/xgboost-win64_release_1.4.0/src/learner.cc:1095: Starting in XGBoost 1.3.0, the default evaluation metric used with the objective 'binary:logistic' was changed from 'error' to 'logloss'. Explicitly set eval_metric if you'd like to restore the old behavior.\n"
     ]
    },
    {
     "data": {
      "text/plain": [
       "XGBClassifier(base_score=0.5, booster='gbtree', colsample_bylevel=1,\n",
       "              colsample_bynode=1, colsample_bytree=1, gamma=0, gpu_id=-1,\n",
       "              importance_type='gain', interaction_constraints='',\n",
       "              learning_rate=0.300000012, max_delta_step=0, max_depth=6,\n",
       "              min_child_weight=1, missing=nan, monotone_constraints='()',\n",
       "              n_estimators=100, n_jobs=8, num_parallel_tree=1, random_state=87,\n",
       "              reg_alpha=0, reg_lambda=1, scale_pos_weight=1, subsample=1,\n",
       "              tree_method='exact', validate_parameters=1, verbosity=None)"
      ]
     },
     "execution_count": 74,
     "metadata": {},
     "output_type": "execute_result"
    }
   ],
   "source": [
    "# Instantiating \n",
    "xgb = XGBClassifier(random_state=87)\n",
    "xgb.fit(X_train,y_train)"
   ]
  },
  {
   "cell_type": "code",
   "execution_count": 75,
   "metadata": {},
   "outputs": [
    {
     "name": "stdout",
     "output_type": "stream",
     "text": [
      "XGBoost score summary\n",
      "[[7717  534]\n",
      " [ 270  480]]\n",
      "accuracy =  0.91\n",
      "recall =  0.64\n",
      "precision = 0.47\n",
      "auc =  0.79\n",
      "f1 =  0.54\n"
     ]
    }
   ],
   "source": [
    "# Predicting\n",
    "y_pred = xgb.predict(X_test)\n",
    "model_metrics(y_test,y_pred,'XGBoost')"
   ]
  },
  {
   "cell_type": "markdown",
   "metadata": {},
   "source": [
    "#### Tuning XG Model"
   ]
  },
  {
   "cell_type": "code",
   "execution_count": 76,
   "metadata": {},
   "outputs": [],
   "source": [
    "# importing required libraries\n",
    "from sklearn.model_selection import GridSearchCV"
   ]
  },
  {
   "cell_type": "code",
   "execution_count": 77,
   "metadata": {},
   "outputs": [],
   "source": [
    "params = {'learning_rate': [0.2,0.3,0.4], \n",
    "             'subsample': [0.4,0.5,0.6],\n",
    "              'max_depth': [5]\n",
    "             }"
   ]
  },
  {
   "cell_type": "code",
   "execution_count": 78,
   "metadata": {},
   "outputs": [
    {
     "name": "stdout",
     "output_type": "stream",
     "text": [
      "Fitting 5 folds for each of 9 candidates, totalling 45 fits\n",
      "[21:34:36] WARNING: C:/Users/Administrator/workspace/xgboost-win64_release_1.4.0/src/learner.cc:1095: Starting in XGBoost 1.3.0, the default evaluation metric used with the objective 'binary:logistic' was changed from 'error' to 'logloss'. Explicitly set eval_metric if you'd like to restore the old behavior.\n"
     ]
    },
    {
     "data": {
      "text/plain": [
       "GridSearchCV(cv=5,\n",
       "             estimator=XGBClassifier(base_score=None, booster=None,\n",
       "                                     colsample_bylevel=None,\n",
       "                                     colsample_bynode=None,\n",
       "                                     colsample_bytree=None, gamma=None,\n",
       "                                     gpu_id=None, importance_type='gain',\n",
       "                                     interaction_constraints=None,\n",
       "                                     learning_rate=None, max_delta_step=None,\n",
       "                                     max_depth=None, min_child_weight=None,\n",
       "                                     missing=nan, monotone_constraints=None,\n",
       "                                     n_estimators=100, n_jobs=None,\n",
       "                                     num_parallel_tree=None, random_state=87,\n",
       "                                     reg_alpha=None, reg_lambda=None,\n",
       "                                     scale_pos_weight=None, subsample=None,\n",
       "                                     tree_method=None, validate_parameters=None,\n",
       "                                     verbosity=None),\n",
       "             n_jobs=-1,\n",
       "             param_grid={'learning_rate': [0.2, 0.3, 0.4], 'max_depth': [5],\n",
       "                         'subsample': [0.4, 0.5, 0.6]},\n",
       "             return_train_score=True, scoring='accuracy', verbose=1)"
      ]
     },
     "execution_count": 78,
     "metadata": {},
     "output_type": "execute_result"
    }
   ],
   "source": [
    "# Building model again\n",
    "xg = XGBClassifier(n_estimators=100,random_state = 87)\n",
    "# Grid Search\n",
    "grid_xgb = GridSearchCV(estimator=xg,\n",
    "                       param_grid=params,\n",
    "                       scoring='accuracy',\n",
    "                       cv=5,\n",
    "                       n_jobs=-1,\n",
    "                       verbose=1,\n",
    "                       return_train_score=True)\n",
    "# Fitting the model\n",
    "grid_xgb.fit(X_train,y_train)"
   ]
  },
  {
   "cell_type": "code",
   "execution_count": 79,
   "metadata": {},
   "outputs": [
    {
     "name": "stdout",
     "output_type": "stream",
     "text": [
      "Best possible Accuracy =  0.94  and params are  {'learning_rate': 0.4, 'max_depth': 5, 'subsample': 0.6}\n"
     ]
    }
   ],
   "source": [
    "print('Best possible Accuracy = ',(round(grid_xgb.best_score_,2)),' and params are ',grid_xgb.best_params_)"
   ]
  },
  {
   "cell_type": "markdown",
   "metadata": {},
   "source": [
    "Building Final Model"
   ]
  },
  {
   "cell_type": "code",
   "execution_count": 80,
   "metadata": {},
   "outputs": [
    {
     "name": "stdout",
     "output_type": "stream",
     "text": [
      "[21:34:47] WARNING: C:/Users/Administrator/workspace/xgboost-win64_release_1.4.0/src/learner.cc:573: \n",
      "Parameters: { \"params\" } might not be used.\n",
      "\n",
      "  This may not be accurate due to some parameters are only used in language bindings but\n",
      "  passed down to XGBoost core.  Or some parameters are not used but slip through this\n",
      "  verification. Please open an issue if you find above cases.\n",
      "\n",
      "\n",
      "[21:34:47] WARNING: C:/Users/Administrator/workspace/xgboost-win64_release_1.4.0/src/learner.cc:1095: Starting in XGBoost 1.3.0, the default evaluation metric used with the objective 'binary:logistic' was changed from 'error' to 'logloss'. Explicitly set eval_metric if you'd like to restore the old behavior.\n"
     ]
    },
    {
     "data": {
      "text/plain": [
       "XGBClassifier(base_score=0.5, booster='gbtree', colsample_bylevel=1,\n",
       "              colsample_bynode=1, colsample_bytree=1, gamma=0, gpu_id=-1,\n",
       "              importance_type='gain', interaction_constraints='',\n",
       "              learning_rate=0.300000012, max_delta_step=0, max_depth=6,\n",
       "              min_child_weight=1, missing=nan, monotone_constraints='()',\n",
       "              n_estimators=100, n_jobs=8, num_parallel_tree=1,\n",
       "              params={'learning_rate': 0.3, 'max_depth': 5, 'n_estimators': 100,\n",
       "                      'subsample': 0.5},\n",
       "              random_state=87, reg_alpha=0, reg_lambda=1, scale_pos_weight=1,\n",
       "              subsample=1, tree_method='exact', validate_parameters=1,\n",
       "              verbosity=None)"
      ]
     },
     "execution_count": 80,
     "metadata": {},
     "output_type": "execute_result"
    }
   ],
   "source": [
    "params = {'learning_rate': 0.3,\n",
    "          'max_depth': 5, \n",
    "          'n_estimators':100,\n",
    "          'subsample':0.5}\n",
    "xg_final = XGBClassifier(params = params,random_state = 87)\n",
    "xg_final.fit(X_train,y_train)"
   ]
  },
  {
   "cell_type": "code",
   "execution_count": 81,
   "metadata": {},
   "outputs": [
    {
     "name": "stdout",
     "output_type": "stream",
     "text": [
      "XGboost Final score summary\n",
      "[[7717  534]\n",
      " [ 270  480]]\n",
      "accuracy =  0.91\n",
      "recall =  0.64\n",
      "precision = 0.47\n",
      "auc =  0.79\n",
      "f1 =  0.54\n"
     ]
    }
   ],
   "source": [
    "# Predicting\n",
    "y_pred = xg_final.predict(X_test)\n",
    "model_metrics(y_test,y_pred,'XGboost Final')"
   ]
  },
  {
   "cell_type": "code",
   "execution_count": null,
   "metadata": {},
   "outputs": [],
   "source": []
  },
  {
   "cell_type": "markdown",
   "metadata": {},
   "source": [
    "#### Random Forest Model"
   ]
  },
  {
   "cell_type": "code",
   "execution_count": 82,
   "metadata": {},
   "outputs": [],
   "source": [
    "# making a copy\n",
    "telcom_tree = telcom_hv_df.copy()"
   ]
  },
  {
   "cell_type": "code",
   "execution_count": 83,
   "metadata": {},
   "outputs": [
    {
     "name": "stdout",
     "output_type": "stream",
     "text": [
      "df splitted..\n",
      "df scaled..\n",
      "train df before :  (21000, 85)\n",
      "Applying SMOTE...\n",
      "train df after SMOTE :  (38618, 85)\n",
      "df after PCA :  (38618, 60)\n"
     ]
    }
   ],
   "source": [
    "# Getting data\n",
    "X_train,X_test,y_train,y_test = model_data(telcom_tree)"
   ]
  },
  {
   "cell_type": "code",
   "execution_count": 84,
   "metadata": {},
   "outputs": [],
   "source": [
    "# Importing required Random Forest libraries\n",
    "from sklearn.ensemble import RandomForestClassifier"
   ]
  },
  {
   "cell_type": "code",
   "execution_count": 85,
   "metadata": {},
   "outputs": [
    {
     "data": {
      "text/plain": [
       "RandomForestClassifier(random_state=87)"
      ]
     },
     "execution_count": 85,
     "metadata": {},
     "output_type": "execute_result"
    }
   ],
   "source": [
    "# Instantiating Random Forest\n",
    "ran_for = RandomForestClassifier(random_state=87)\n",
    "# Fitting model\n",
    "ran_for.fit(X_train,y_train)"
   ]
  },
  {
   "cell_type": "code",
   "execution_count": 86,
   "metadata": {},
   "outputs": [
    {
     "name": "stdout",
     "output_type": "stream",
     "text": [
      "RandomForest score summary\n",
      "[[7845  406]\n",
      " [ 320  430]]\n",
      "accuracy =  0.92\n",
      "recall =  0.57\n",
      "precision = 0.51\n",
      "auc =  0.76\n",
      "f1 =  0.54\n"
     ]
    }
   ],
   "source": [
    "# Predicting\n",
    "y_pred_ran = ran_for.predict(X_test)\n",
    "model_metrics(y_test,y_pred_ran,'RandomForest')"
   ]
  },
  {
   "cell_type": "markdown",
   "metadata": {},
   "source": [
    "#### Tuning RF Model"
   ]
  },
  {
   "cell_type": "markdown",
   "metadata": {},
   "source": [
    "For tuning we will use GridSearchCV"
   ]
  },
  {
   "cell_type": "code",
   "execution_count": 87,
   "metadata": {},
   "outputs": [],
   "source": [
    "# Create the parameter grid based on the results of random search \n",
    "params = {  'max_depth': [12, 15, 18],\n",
    "            'min_samples_leaf': [10, 20],\n",
    "            'n_estimators': [70]}"
   ]
  },
  {
   "cell_type": "code",
   "execution_count": 88,
   "metadata": {},
   "outputs": [],
   "source": [
    "# Model\n",
    "rf = RandomForestClassifier(random_state = 87)\n",
    "# Instantiating GridSearch\n",
    "grid_rf = GridSearchCV(estimator = rf, param_grid = params, \n",
    "                       cv = 5, n_jobs = -1, verbose=1, return_train_score=True)"
   ]
  },
  {
   "cell_type": "code",
   "execution_count": 89,
   "metadata": {},
   "outputs": [
    {
     "name": "stdout",
     "output_type": "stream",
     "text": [
      "Fitting 5 folds for each of 6 candidates, totalling 30 fits\n"
     ]
    },
    {
     "data": {
      "text/plain": [
       "GridSearchCV(cv=5, estimator=RandomForestClassifier(random_state=87), n_jobs=-1,\n",
       "             param_grid={'max_depth': [12, 15, 18],\n",
       "                         'min_samples_leaf': [10, 20], 'n_estimators': [70]},\n",
       "             return_train_score=True, verbose=1)"
      ]
     },
     "execution_count": 89,
     "metadata": {},
     "output_type": "execute_result"
    }
   ],
   "source": [
    "# Fitting\n",
    "grid_rf.fit(X_train,y_train)"
   ]
  },
  {
   "cell_type": "code",
   "execution_count": 90,
   "metadata": {},
   "outputs": [
    {
     "name": "stdout",
     "output_type": "stream",
     "text": [
      "Best possible Accuracy =  0.93  and params are  {'max_depth': 18, 'min_samples_leaf': 10, 'n_estimators': 70}\n"
     ]
    }
   ],
   "source": [
    "print('Best possible Accuracy = ',(round(grid_rf.best_score_,2)),' and params are ',grid_rf.best_params_)"
   ]
  },
  {
   "cell_type": "markdown",
   "metadata": {},
   "source": [
    "Building final model"
   ]
  },
  {
   "cell_type": "code",
   "execution_count": 91,
   "metadata": {},
   "outputs": [],
   "source": [
    "rf_final = RandomForestClassifier(n_estimators=70 ,\n",
    "                        max_depth= 15,\n",
    "                        random_state= 87 ,\n",
    "                        min_samples_leaf=10 ,\n",
    "                        max_features=40 ,\n",
    "                        n_jobs=-1,)\n"
   ]
  },
  {
   "cell_type": "code",
   "execution_count": 92,
   "metadata": {},
   "outputs": [
    {
     "data": {
      "text/plain": [
       "RandomForestClassifier(max_depth=15, max_features=40, min_samples_leaf=10,\n",
       "                       n_estimators=70, n_jobs=-1, random_state=87)"
      ]
     },
     "execution_count": 92,
     "metadata": {},
     "output_type": "execute_result"
    }
   ],
   "source": [
    "# Fitting\n",
    "rf_final.fit(X_train,y_train)"
   ]
  },
  {
   "cell_type": "code",
   "execution_count": 93,
   "metadata": {},
   "outputs": [
    {
     "name": "stdout",
     "output_type": "stream",
     "text": [
      "RandomForest Final score summary\n",
      "[[7579  672]\n",
      " [ 219  531]]\n",
      "accuracy =  0.9\n",
      "recall =  0.71\n",
      "precision = 0.44\n",
      "auc =  0.81\n",
      "f1 =  0.54\n"
     ]
    }
   ],
   "source": [
    "# Predicting\n",
    "y_pred = rf_final.predict(X_test)\n",
    "model_metrics(y_test, y_pred, 'RandomForest Final')"
   ]
  },
  {
   "cell_type": "markdown",
   "metadata": {},
   "source": [
    "### Suggestions"
   ]
  },
  {
   "cell_type": "markdown",
   "metadata": {},
   "source": [
    "- Local incoming and outgoing calls from and to other operators, call centers etc are indication of churn behaviour\n"
   ]
  },
  {
   "cell_type": "markdown",
   "metadata": {},
   "source": [
    "- Internet Usage 2G/3G in Good Phase is high but drops significantly in Action phase , need to introduce schemes"
   ]
  },
  {
   "cell_type": "markdown",
   "metadata": {},
   "source": [
    "- Revenue generation drops then company must focus on luring schemes to make customers buy top-us etc"
   ]
  },
  {
   "cell_type": "markdown",
   "metadata": {},
   "source": [
    "- Roaming is issue for most cutomers"
   ]
  },
  {
   "cell_type": "markdown",
   "metadata": {},
   "source": [
    "- Less number of High Value customers are churning but company needs to focus on increasing high value customers"
   ]
  },
  {
   "cell_type": "markdown",
   "metadata": {},
   "source": [
    "#### Model Summary"
   ]
  },
  {
   "cell_type": "code",
   "execution_count": 94,
   "metadata": {},
   "outputs": [
    {
     "data": {
      "text/html": [
       "<div>\n",
       "<style scoped>\n",
       "    .dataframe tbody tr th:only-of-type {\n",
       "        vertical-align: middle;\n",
       "    }\n",
       "\n",
       "    .dataframe tbody tr th {\n",
       "        vertical-align: top;\n",
       "    }\n",
       "\n",
       "    .dataframe thead th {\n",
       "        text-align: right;\n",
       "    }\n",
       "</style>\n",
       "<table border=\"1\" class=\"dataframe\">\n",
       "  <thead>\n",
       "    <tr style=\"text-align: right;\">\n",
       "      <th></th>\n",
       "      <th>Model</th>\n",
       "      <th>Accuracy</th>\n",
       "      <th>Precision</th>\n",
       "      <th>Recall</th>\n",
       "      <th>AUC</th>\n",
       "      <th>F1</th>\n",
       "    </tr>\n",
       "  </thead>\n",
       "  <tbody>\n",
       "    <tr>\n",
       "      <th>0</th>\n",
       "      <td>Logistic</td>\n",
       "      <td>0.83</td>\n",
       "      <td>0.83</td>\n",
       "      <td>0.31</td>\n",
       "      <td>0.83</td>\n",
       "      <td>0.45</td>\n",
       "    </tr>\n",
       "    <tr>\n",
       "      <th>1</th>\n",
       "      <td>XGBoost</td>\n",
       "      <td>0.91</td>\n",
       "      <td>0.64</td>\n",
       "      <td>0.47</td>\n",
       "      <td>0.79</td>\n",
       "      <td>0.54</td>\n",
       "    </tr>\n",
       "    <tr>\n",
       "      <th>2</th>\n",
       "      <td>XGboost Final</td>\n",
       "      <td>0.91</td>\n",
       "      <td>0.64</td>\n",
       "      <td>0.47</td>\n",
       "      <td>0.79</td>\n",
       "      <td>0.54</td>\n",
       "    </tr>\n",
       "    <tr>\n",
       "      <th>3</th>\n",
       "      <td>RandomForest</td>\n",
       "      <td>0.92</td>\n",
       "      <td>0.57</td>\n",
       "      <td>0.51</td>\n",
       "      <td>0.76</td>\n",
       "      <td>0.54</td>\n",
       "    </tr>\n",
       "    <tr>\n",
       "      <th>4</th>\n",
       "      <td>RandomForest Final</td>\n",
       "      <td>0.90</td>\n",
       "      <td>0.71</td>\n",
       "      <td>0.44</td>\n",
       "      <td>0.81</td>\n",
       "      <td>0.54</td>\n",
       "    </tr>\n",
       "  </tbody>\n",
       "</table>\n",
       "</div>"
      ],
      "text/plain": [
       "                Model  Accuracy  Precision  Recall   AUC    F1\n",
       "0           Logistic       0.83       0.83    0.31  0.83  0.45\n",
       "1             XGBoost      0.91       0.64    0.47  0.79  0.54\n",
       "2       XGboost Final      0.91       0.64    0.47  0.79  0.54\n",
       "3        RandomForest      0.92       0.57    0.51  0.76  0.54\n",
       "4  RandomForest Final      0.90       0.71    0.44  0.81  0.54"
      ]
     },
     "execution_count": 94,
     "metadata": {},
     "output_type": "execute_result"
    }
   ],
   "source": [
    "score_summary"
   ]
  },
  {
   "cell_type": "markdown",
   "metadata": {},
   "source": [
    "- Logistic Regression gives auc roc score of 0.90\n",
    "\n",
    "    - Logistic  score summary\n",
    "\n",
    "        [[6865 1386]\n",
    "    \n",
    "        [ 125  625]]\n",
    "        \n",
    "    \n",
    "    - accuracy =  0.83\n",
    "    - recall =  0.83\n",
    "    - precision = 0.31\n",
    "    - auc =  0.83\n",
    "    - f1 =  0.45"
   ]
  },
  {
   "cell_type": "markdown",
   "metadata": {},
   "source": [
    "- For XGBoost the metric score came out to be \n",
    "   \n",
    "    - XGboost score summary \n",
    "    \n",
    "      [[7710  541]\n",
    "      \n",
    "      [ 276  474]]\n",
    "      \n",
    "      \n",
    "    - accuracy =  0.91\n",
    "    - recall =  0.64\n",
    "    - precision = 0.47\n",
    "    - auc =  0.79\n",
    "    - f1 =  0.54\n",
    "                And the best possible accuracy is 0.94"
   ]
  },
  {
   "cell_type": "markdown",
   "metadata": {},
   "source": [
    "- For Random Forest metric score came out to be \n",
    "\n",
    "   - RandomForest Final score summary\n",
    "   \n",
    "        [[7621  630]\n",
    "        \n",
    "        [ 219  531]]\n",
    "        \n",
    "        \n",
    " - accuracy =  0.90\n",
    " - recall =  0.71\n",
    " - precision = 0.44\n",
    " - auc =  0.81\n",
    " - f1 =  0.54\n",
    "                  And the best possible accuracy is 0.94"
   ]
  },
  {
   "cell_type": "code",
   "execution_count": null,
   "metadata": {},
   "outputs": [],
   "source": []
  }
 ],
 "metadata": {
  "kernelspec": {
   "display_name": "Python 3",
   "language": "python",
   "name": "python3"
  },
  "language_info": {
   "codemirror_mode": {
    "name": "ipython",
    "version": 3
   },
   "file_extension": ".py",
   "mimetype": "text/x-python",
   "name": "python",
   "nbconvert_exporter": "python",
   "pygments_lexer": "ipython3",
   "version": "3.8.5"
  }
 },
 "nbformat": 4,
 "nbformat_minor": 4
}
